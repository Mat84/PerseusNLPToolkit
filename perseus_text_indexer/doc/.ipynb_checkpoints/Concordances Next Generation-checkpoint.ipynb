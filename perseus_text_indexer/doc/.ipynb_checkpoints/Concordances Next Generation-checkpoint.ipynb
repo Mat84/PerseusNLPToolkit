{
 "cells": [
  {
   "cell_type": "markdown",
   "metadata": {},
   "source": [
    "# More powerful concordances"
   ]
  },
  {
   "cell_type": "markdown",
   "metadata": {},
   "source": [
    "In this notebook, we show how we can leverage Python NLTK, CTS-compliant texts and treebanks to create some powerful concordances with just a few lines of code.\n",
    "\n",
    "It is amazing how much you can accomplish with Python NLTK! In this case, it is sufficient to override a couple of methods of the classes in the [text](http://www.nltk.org/_modules/nltk/text.html) modules and you can really have a lot of fun...\n",
    "\n",
    "I will also make use of my special [corpus reader]() for cts-compliant texts, which will make it easier for us to load and tokenize Perseus' and 1stKYearsOfGreek texts, as well as to keep tokens in sync with the citations"
   ]
  },
  {
   "cell_type": "markdown",
   "metadata": {},
   "source": [
    "In what are our concordances better?\n",
    "\n",
    "1. They include a **canonical citation** for each occurrence (something which you don't find often in corpus investigation tools)\n",
    "2. The indexing is very **flexible**! they support indexing for:\n",
    "    * simple form (vanilla concordances)\n",
    "    * lemma\n",
    "    * morpho-tag\n",
    "    * ... in brief: every metadata you want to append to your tokens!\n",
    "    \n",
    "In what follows we see how to create these concordances with a few lines of code"
   ]
  },
  {
   "cell_type": "code",
   "execution_count": 6,
   "metadata": {},
   "outputs": [],
   "source": [
    "import sys\n",
    "sys.path.append(\"../\")\n",
    "sys.path.append(\"../../\")"
   ]
  },
  {
   "cell_type": "code",
   "execution_count": 10,
   "metadata": {},
   "outputs": [],
   "source": [
    "from cite_corpus_reader import CapitainCorpusReader\n",
    "from perseus_text import CitableConcordanceIndex\n",
    "import os\n",
    "# we use etree to parse the treebank XML: if you mycapitain, then you also have lxml...\n",
    "from lxml import etree"
   ]
  },
  {
   "cell_type": "markdown",
   "metadata": {},
   "source": [
    "# Set up"
   ]
  },
  {
   "cell_type": "markdown",
   "metadata": {},
   "source": [
    "Now we load a series of sample files:\n",
    "* the treebanks of the tragedies of Aeschylus\n",
    "* the TEI editions of Aeschylus from the Perseus DL"
   ]
  },
  {
   "cell_type": "code",
   "execution_count": 11,
   "metadata": {},
   "outputs": [],
   "source": [
    "pers_root = os.path.expanduser(\"~/cltk_data/greek/text/canonical-greekLit-master/data\")\n",
    "tb_root = os.path.expanduser(\"~/Documents/lavoro/treebank/files/AGDT2.X/PerseusDL-treebank_data-96df3cc/v2.1/Greek/texts\")"
   ]
  },
  {
   "cell_type": "markdown",
   "metadata": {},
   "source": [
    "## The simple text of Aeschylus' editions"
   ]
  },
  {
   "cell_type": "code",
   "execution_count": 16,
   "metadata": {},
   "outputs": [
    {
     "data": {
      "text/plain": [
       "['tlg0085/tlg001/tlg0085.tlg001.perseus-grc2.xml',\n",
       " 'tlg0085/tlg002/tlg0085.tlg002.perseus-grc2.xml',\n",
       " 'tlg0085/tlg003/tlg0085.tlg003.perseus-grc2.xml',\n",
       " 'tlg0085/tlg004/tlg0085.tlg004.perseus-grc2.xml',\n",
       " 'tlg0085/tlg005/tlg0085.tlg005.perseus-grc2.xml',\n",
       " 'tlg0085/tlg006/tlg0085.tlg006.perseus-grc2.xml',\n",
       " 'tlg0085/tlg007/tlg0085.tlg007.perseus-grc2.xml']"
      ]
     },
     "execution_count": 16,
     "metadata": {},
     "output_type": "execute_result"
    }
   ],
   "source": [
    "aesch_corpus = CapitainCorpusReader(pers_root, \"tlg0085/tlg.+/tlg.+grc2\\.xml\")\n",
    "aesch_corpus.fileids()"
   ]
  },
  {
   "cell_type": "markdown",
   "metadata": {},
   "source": [
    "Now we save cites and words in two variables that we'll use later on"
   ]
  },
  {
   "cell_type": "code",
   "execution_count": 17,
   "metadata": {},
   "outputs": [],
   "source": [
    "cite_words = aesch_corpus.corpus_cite_words()\n",
    "aesch_tokens = [t[-1] for t in cite_words]\n",
    "aesch_cites = [\"{}:{}\".format(t[0], t[1]) for t in cite_words]"
   ]
  },
  {
   "cell_type": "markdown",
   "metadata": {},
   "source": [
    "## Aeschylus treebank"
   ]
  },
  {
   "cell_type": "code",
   "execution_count": 15,
   "metadata": {},
   "outputs": [],
   "source": [
    "# I'll use glob to speed up the parsing of the xml files\n",
    "from glob import glob\n",
    "aes_tb_files = glob(tb_root+\"/tlg0085*.xml\")\n",
    "aesch_tb_words = []\n",
    "\n",
    "for f in aes_tb_files:\n",
    "    x = etree.parse(f)\n",
    "    ws = x.xpath(\"//word[@cite]\")\n",
    "    aesch_tb_words.extend(ws)"
   ]
  },
  {
   "cell_type": "markdown",
   "metadata": {},
   "source": [
    "Here we make every treebank token in Aeschylus as a tuple with: form, lemma, postag, relation. We'll use these attributes later to index the entries in the tragedies"
   ]
  },
  {
   "cell_type": "code",
   "execution_count": 46,
   "metadata": {},
   "outputs": [],
   "source": [
    "tbcites = [\":\".join(w.attrib[\"cite\"].split(\":\")[3:5]) for w in aesch_tb_words]\n",
    "tbtokens = [(w.attrib[\"form\"], w.attrib[\"lemma\"], \n",
    "             w.attrib[\"postag\"], w.attrib[\"relation\"]) for w in aesch_tb_words]"
   ]
  },
  {
   "cell_type": "markdown",
   "metadata": {},
   "source": [
    "# The concordances"
   ]
  },
  {
   "cell_type": "markdown",
   "metadata": {},
   "source": [
    "## Simple-text concordances"
   ]
  },
  {
   "cell_type": "markdown",
   "metadata": {},
   "source": [
    "Creating a concordance index is as easy as this:"
   ]
  },
  {
   "cell_type": "code",
   "execution_count": 23,
   "metadata": {},
   "outputs": [],
   "source": [
    "aesch_index = CitableConcordanceIndex(aesch_tokens, aesch_cites)"
   ]
  },
  {
   "cell_type": "markdown",
   "metadata": {},
   "source": [
    "Now let's use this object to print the first 10 occurrence of the word ἄναξ"
   ]
  },
  {
   "cell_type": "code",
   "execution_count": 24,
   "metadata": {},
   "outputs": [
    {
     "name": "stdout",
     "output_type": "stream",
     "text": [
      "Displaying 10 of 31 matches:\n",
      "λιπεῖν ἔτλητε ; τίς κατέσκηψεν τύχη ; ἄναξ Πελασγῶν , αἰόλʼ ἀνθρώπων κακά . πόνο (tlg0085.tlg001:328)\n",
      " κλῦθί μου πρόφρονι καρδίᾳ , Πελασγῶν ἄναξ . ἴδε με τὰν ἱκέτιν φυγάδα περίδρομον (tlg0085.tlg001:349)\n",
      "πειθὼ δʼ ἕποιτο καὶ τύχη πρακτήριος . ἄναξ ἀνάκτων , μακάρων μακάρτατε καὶ τελέω (tlg0085.tlg001:524)\n",
      "ις ; αὐτὸς ὁ πατὴρ φυτουργὸς αὐτόχειρ ἄναξ γένους παλαιόφρων μέγας τέκτων , τὸ π (tlg0085.tlg001:592)\n",
      "τοιάνδʼ ἔπειθεν ῥῆσιν ἀμφʼ ἡμῶν λέγων ἄναξ Πελασγῶν , ἱκεσίου Ζηνὸς κότον μέγαν  (tlg0085.tlg001:616)\n",
      "οὐ κατοικτιεῖ . διωλόμεσθʼ · ἄσεπτʼ , ἄναξ , πάσχομεν — πολλοὺς ἄνακτας , παῖδας (tlg0085.tlg001:904)\n",
      "άσκεις ; τὰ θεῶν μηδὲν ἀγάζειν . Ζεὺς ἄναξ ἀποστεροί - η γάμον δυσάνορα δάιον ,  (tlg0085.tlg001:1062)\n",
      "ων φύλακες , κατὰ πρεσβείαν οὓς αὐτὸς ἄναξ Ξέρξης βασιλεὺς Δαρειογενὴς εἵλετο χώ (tlg0085.tlg002:5)\n",
      "έφθιτο καὶ νὺξ ἐπῄει , πᾶς ἀνὴρ κώπης ἄναξ ἐς ναῦν ἐχώρει πᾶς θʼ ὅπλων ἐπιστάτης (tlg0085.tlg002:378)\n",
      "ξεκείνωσεν πεσόν , ἐξ οὗτε τιμὴν Ζεὺς ἄναξ τήνδʼ ὤπασεν , ἕνʼ ἄνδρʼ ἁπάσης Ἀσίδο (tlg0085.tlg002:762)\n"
     ]
    }
   ],
   "source": [
    "aesch_index.print_concordance(\"ἄναξ\", lines=10)"
   ]
  },
  {
   "cell_type": "markdown",
   "metadata": {},
   "source": [
    "Cool, we have the lines and the (sort of) canonical citations (but we can make it 100% canonical if we want...)\n",
    "\n",
    "Can we make it prettier?\n",
    "\n",
    "Sure! the `find_concordance` method locates all the information we need and returns a list of matches with context. Then we can format it with html, or anyway we want..."
   ]
  },
  {
   "cell_type": "code",
   "execution_count": 33,
   "metadata": {},
   "outputs": [
    {
     "data": {
      "text/plain": [
       "ConcordanceLine(left=['.', 'δοκεῖτε', 'δή', 'μοι', 'τῆσδε', 'κοινωνεῖν', 'χθονὸς', 'τἀρχαῖον', '.', 'ἀλλὰ', 'πῶς', 'πατρῷα', 'δώματα', 'λιπεῖν', 'ἔτλητε', ';', 'τίς', 'κατέσκηψεν', 'τύχη', ';'], query='ἄναξ', right=['Πελασγῶν', ',', 'αἰόλʼ', 'ἀνθρώπων', 'κακά', '.', 'πόνου', 'δʼ', 'ἴδοις', 'ἂν', 'οὐδαμοῦ', 'ταὐτὸν', 'πτερόν', '·', 'ἐπεὶ', 'τίς', 'ηὔχει', 'τήνδʼ', 'ἀνέλπιστον'], offset=1759, cite='tlg0085.tlg001:328', left_print='λιπεῖν ἔτλητε ; τίς κατέσκηψεν τύχη ;', right_print='Πελασγῶν , αἰόλʼ ἀνθρώπων κακά . πόνο', line='λιπεῖν ἔτλητε ; τίς κατέσκηψεν τύχη ; ἄναξ Πελασγῶν , αἰόλʼ ἀνθρώπων κακά . πόνο')"
      ]
     },
     "execution_count": 33,
     "metadata": {},
     "output_type": "execute_result"
    }
   ],
   "source": [
    "conc = aesch_index.find_concordance(\"ἄναξ\")\n",
    "conc[0]"
   ]
  },
  {
   "cell_type": "code",
   "execution_count": 34,
   "metadata": {},
   "outputs": [],
   "source": [
    "h = \"<ul>\\n\"\n",
    "for c in conc[:10]:\n",
    "    h += '<li>{} <span style=\"color:blue\">{}</span> {} (<span style=\"color:green\">{}</span>)</li>'.format(c.left_print,\n",
    "                                                                                                       c.query,\n",
    "                                                                                                       c.right_print,\n",
    "                                                                                                       c.cite)\n"
   ]
  },
  {
   "cell_type": "code",
   "execution_count": 35,
   "metadata": {},
   "outputs": [
    {
     "data": {
      "text/html": [
       "<ul>\n",
       "<li>λιπεῖν ἔτλητε ; τίς κατέσκηψεν τύχη ; <span style=\"color:blue\">ἄναξ</span> Πελασγῶν , αἰόλʼ ἀνθρώπων κακά . πόνο (<span style=\"color:green\">tlg0085.tlg001:328</span>)</li><li> κλῦθί μου πρόφρονι καρδίᾳ , Πελασγῶν <span style=\"color:blue\">ἄναξ</span> . ἴδε με τὰν ἱκέτιν φυγάδα περίδρομον (<span style=\"color:green\">tlg0085.tlg001:349</span>)</li><li>πειθὼ δʼ ἕποιτο καὶ τύχη πρακτήριος . <span style=\"color:blue\">ἄναξ</span> ἀνάκτων , μακάρων μακάρτατε καὶ τελέω (<span style=\"color:green\">tlg0085.tlg001:524</span>)</li><li>ις ; αὐτὸς ὁ πατὴρ φυτουργὸς αὐτόχειρ <span style=\"color:blue\">ἄναξ</span> γένους παλαιόφρων μέγας τέκτων , τὸ π (<span style=\"color:green\">tlg0085.tlg001:592</span>)</li><li>τοιάνδʼ ἔπειθεν ῥῆσιν ἀμφʼ ἡμῶν λέγων <span style=\"color:blue\">ἄναξ</span> Πελασγῶν , ἱκεσίου Ζηνὸς κότον μέγαν  (<span style=\"color:green\">tlg0085.tlg001:616</span>)</li><li>οὐ κατοικτιεῖ . διωλόμεσθʼ · ἄσεπτʼ , <span style=\"color:blue\">ἄναξ</span> , πάσχομεν — πολλοὺς ἄνακτας , παῖδας (<span style=\"color:green\">tlg0085.tlg001:904</span>)</li><li>άσκεις ; τὰ θεῶν μηδὲν ἀγάζειν . Ζεὺς <span style=\"color:blue\">ἄναξ</span> ἀποστεροί - η γάμον δυσάνορα δάιον ,  (<span style=\"color:green\">tlg0085.tlg001:1062</span>)</li><li>ων φύλακες , κατὰ πρεσβείαν οὓς αὐτὸς <span style=\"color:blue\">ἄναξ</span> Ξέρξης βασιλεὺς Δαρειογενὴς εἵλετο χώ (<span style=\"color:green\">tlg0085.tlg002:5</span>)</li><li>έφθιτο καὶ νὺξ ἐπῄει , πᾶς ἀνὴρ κώπης <span style=\"color:blue\">ἄναξ</span> ἐς ναῦν ἐχώρει πᾶς θʼ ὅπλων ἐπιστάτης (<span style=\"color:green\">tlg0085.tlg002:378</span>)</li><li>ξεκείνωσεν πεσόν , ἐξ οὗτε τιμὴν Ζεὺς <span style=\"color:blue\">ἄναξ</span> τήνδʼ ὤπασεν , ἕνʼ ἄνδρʼ ἁπάσης Ἀσίδο (<span style=\"color:green\">tlg0085.tlg002:762</span>)</li>"
      ],
      "text/plain": [
       "<IPython.core.display.HTML object>"
      ]
     },
     "execution_count": 35,
     "metadata": {},
     "output_type": "execute_result"
    }
   ],
   "source": [
    "from IPython.display import HTML\n",
    "HTML(h)"
   ]
  },
  {
   "cell_type": "markdown",
   "metadata": {},
   "source": [
    "So we learn that there are 31 occurrences of ἄναξ in Aeschylus. What about the other forms of this word?"
   ]
  },
  {
   "cell_type": "code",
   "execution_count": 36,
   "metadata": {},
   "outputs": [
    {
     "name": "stdout",
     "output_type": "stream",
     "text": [
      "Displaying 5 of 5 matches:\n",
      "γός , τῆσδε γῆς ἀρχηγέτης . ἐμοῦ δʼ ἄνακτος εὐλόγως ἐπώνυμον γένος Πελασγῶν τήν (tlg0085.tlg001:252)\n",
      "ἱδρῦσθαι χθονός . τῆλε πρὸς δυσμαῖς ἄνακτος Ἡλίου φθινασμάτων . ἀλλὰ μὴν ἵμειρʼ (tlg0085.tlg002:232)\n",
      "χέρσον ἐληλαμέναι πέρι πύργον τοῦδʼ ἄνακτος ἄιον , Ἕλλας τʼ ἀμφὶ πόρον πλατὺν ε (tlg0085.tlg002:873)\n",
      "γένοιτο δʼ οὖν μολόντος εὐφιλῆ χέρα ἄνακτος οἴκων τῇδε βαστάσαι χερί . τὰ δʼ ἄλ (tlg0085.tlg005:35)\n",
      "τὰ μάσσω μὲν τί δεῖ σέ μοι λέγειν ; ἄνακτος αὐτοῦ πάντα πεύσομαι λόγον . ὅπως δ (tlg0085.tlg005:599)\n"
     ]
    }
   ],
   "source": [
    "aesch_index.print_concordance(\"ἄνακτος\")"
   ]
  },
  {
   "cell_type": "markdown",
   "metadata": {},
   "source": [
    "How do we find them all?"
   ]
  },
  {
   "cell_type": "markdown",
   "metadata": {},
   "source": [
    "## Annotation-based concordances"
   ]
  },
  {
   "cell_type": "markdown",
   "metadata": {},
   "source": [
    "If we have a lemmatized corpus (e.g. a treebank) we could use the same expanded concurdance indexer to create a similar list that searches for lemmata instead of forms.\n",
    "\n",
    "Above we read the treebank files and created a list of tokens with some addition information. E.g.:"
   ]
  },
  {
   "cell_type": "code",
   "execution_count": 38,
   "metadata": {},
   "outputs": [
    {
     "data": {
      "text/plain": [
       "('ἐπίδοι', 'ἐπεῖδον', 'v3saoa---', 'PRED')"
      ]
     },
     "execution_count": 38,
     "metadata": {},
     "output_type": "execute_result"
    }
   ],
   "source": [
    "tbtokens[3]"
   ]
  },
  {
   "cell_type": "markdown",
   "metadata": {},
   "source": [
    "Now let's create a concordance indexer that makes use of lemmata instead of forms. Instead of passing a list of forms to the constructor, we pass a list of tuples and we specify the function (`key`) of the column we want to index for; in this case, the lemma is the second element in the tuple (indexed 1)"
   ]
  },
  {
   "cell_type": "code",
   "execution_count": 48,
   "metadata": {},
   "outputs": [],
   "source": [
    "tbindex = CitableConcordanceIndex(tbtokens, tbcites, key=lambda x:x[1])"
   ]
  },
  {
   "cell_type": "markdown",
   "metadata": {},
   "source": [
    "With the argument `key` we passed a function that for every element in a list of iterable return the element indexed 1 (the lemma in this case); this function is used to create the lemma index. The default function of the class constructor (the one that we used before) is:\n",
    "\n",
    "```python\n",
    "lambda x : x\n",
    "```\n",
    "\n",
    "That is, a function that merely returns the element passed and does nothing with it.\n",
    "\n",
    "Now, let's see if we can use this indexer to get concordances of all the forms of ἄναξ in Aeschylus"
   ]
  },
  {
   "cell_type": "code",
   "execution_count": 49,
   "metadata": {},
   "outputs": [
    {
     "name": "stdout",
     "output_type": "stream",
     "text": [
      "Displaying 20 of 40 matches:\n",
      "ροις νυν ἐσθλὰ κηρυκευέτω . πάντων δ̓ ἀνάκτων τῶνδε κοινοβωμίαν σέβεσθ̓ · ἐν ἁγνῷ δ (tlg0085.tlg001:222)\n",
      "ασγός , τῆσδε γῆς ἀρχηγέτης . ἐμοῦ δ̓ ἄνακτος εὐλόγως ἐπώνυμον γένος Πελασγῶν τήνδε (tlg0085.tlg001:252)\n",
      "λιπεῖν ἔτλητε ; τίς κατέσκηψεν τύχη ; ἄναξ Πελασγῶν , αἰόλ̓ ἀνθρώπων κακά . πόνο (tlg0085.tlg001:328)\n",
      " κλῦθί μου πρόφρονι καρδίᾳ , Πελασγῶν ἄναξ . ἴδε με τὰν ἱκέτιν φυγάδα περίδρομον (tlg0085.tlg001:349)\n",
      "πειθὼ δ̓ ἕποιτο καὶ τύχη πρακτήριος . ἄναξ ἀνάκτων , μακάρων μακάρτατε καὶ τελέω (tlg0085.tlg001:524)\n",
      " δ̓ ἕποιτο καὶ τύχη πρακτήριος . ἄναξ ἀνάκτων , μακάρων μακάρτατε καὶ τελέων τελειό (tlg0085.tlg001:524)\n",
      "ις ; αὐτὸς ὁ πατὴρ φυτουργὸς αὐτόχειρ ἄναξ γένους παλαιόφρων μέγας τέκτων , τὸ π (tlg0085.tlg001:592)\n",
      "τοιάνδ̓ ἔπειθεν ῥῆσιν ἀμφ̓ ἡμῶν λέγων ἄναξ Πελασγῶν , ἱκεσίου Ζηνὸς κότον μέγαν  (tlg0085.tlg001:616)\n",
      "οὐ κατοικτιεῖ . διωλόμεσθ̓ · ἄσεπτ̓ , ἄναξ , πάσχομεν - πολλοὺς ἄνακτας , παῖδας (tlg0085.tlg001:904)\n",
      " · ἄσεπτ̓ , ἄναξ , πάσχομεν - πολλοὺς ἄνακτας , παῖδας Αἰγύπτου τάχα ὄψεσθε · θαρσε (tlg0085.tlg001:905)\n",
      "άσκεις ; τὰ θεῶν μηδὲν ἀγάζειν . Ζεὺς ἄναξ ἀποστεροί - η γάμον δυσάνορα δάιον ,  (tlg0085.tlg001:1062)\n",
      "ων φύλακες , κατὰ πρεσβείαν οὓς αὐτὸς ἄναξ Ξέρξης βασιλεὺς Δαρειογενὴς εἵλετο χώ (tlg0085.tlg002:5)\n",
      "ν ἱδρῦσθαι χθονός . τῆλε πρὸς δυσμαῖς ἄνακτος Ἡλίου φθινασμάτων . ἀλλὰ μὴν ἵμειῤ ἐ (tlg0085.tlg002:232)\n",
      "έφθιτο καὶ νὺξ ἐπῄει , πᾶς ἀνὴρ κώπης ἄναξ ἐς ναῦν ἐχώρει πᾶς θ̓ ὅπλων ἐπιστάτης (tlg0085.tlg002:378)\n",
      " πάννυχοι δὴ διάπλοον καθίστασαν ναῶν ἄνακτες πάντα ναυτικὸν λεών . καὶ νὺξ ἐχώρει  (tlg0085.tlg002:383)\n",
      "ριστοι κεὐγένειαν ἐκπρεπεῖς , αὐτῷ τ̓ ἄνακτι πίστιν ἐν πρώτοις ἀεί , τεθνᾶσιν αἰσχ (tlg0085.tlg002:443)\n",
      "ἵ τ̓ Ἰαόνων χέρες . τυτθὰ δ̓ ἐκφυγεῖν ἄνακτ̓ αὐτὸν εἰσακούομεν Θρῄκης ἂμ πεδιήρεις (tlg0085.tlg002:564)\n",
      "ξεκείνωσεν πεσόν , ἐξ οὗτε τιμὴν Ζεὺς ἄναξ τήνδ̓ ὤπασεν , ἕν̓ ἄνδῤ ἁπάσης Ἀσίδο (tlg0085.tlg002:762)\n",
      "εῖμεν πήματ̓ ἔρξαντες τόσα . τί οὖν , ἄναξ Δαρεῖε , ποῖ καταστρέφεις λόγων τελευ (tlg0085.tlg002:787)\n",
      "ὰ χέρσον ἐληλαμέναι πέρι πύργον τοῦδ̓ ἄνακτος ἄιον , Ἕλλας τ̓ ἀμφὶ πόρον πλατὺν εὐχ (tlg0085.tlg002:873)\n"
     ]
    }
   ],
   "source": [
    "tbindex.print_concordance(\"ἄναξ\", lines=20)"
   ]
  },
  {
   "cell_type": "markdown",
   "metadata": {},
   "source": [
    "## More complex indexing"
   ]
  },
  {
   "cell_type": "markdown",
   "metadata": {},
   "source": [
    "Can we make concordances of the main predicates in Aeschylus or the subjects?"
   ]
  },
  {
   "cell_type": "code",
   "execution_count": 55,
   "metadata": {},
   "outputs": [
    {
     "name": "stdout",
     "output_type": "stream",
     "text": [
      "Displaying 20 of 1987 matches:\n",
      " ἐπίδοι προφρόνως στόλον ἡμέτερον νάιον ἀρθέν (tlg0085.tlg001:1)\n",
      "ίαν δὲ λιποῦσαι χθόνα σύγχορτον Συρίᾳ φεύγομεν , οὔτιν̓ ἐφ̓ αἵματι δημηλασίαν ψήφῳ π (tlg0085.tlg001:5)\n",
      "σίαρχος τάδε πεσσονομῶν κύδιστ̓ ἀχέων ἐπέκρανε , φεύγειν ἀνέδην διὰ κῦμ̓ ἅλιον , κέλ (tlg0085.tlg001:13)\n",
      "ίν̓ ἂν οὖν χώραν εὔφρονα μᾶλλον τῆσδ̓ ἀφικοίμεθα σὺν τοῖσδ̓ ἱκετῶν ἐγχειριδίοις ἐριοστ (tlg0085.tlg001:20)\n",
      "τὴρ τρίτος , οἰκοφύλαξ ὁσίων ἀνδρῶν , δέξασθ̓ ἱκέτην τὸν θηλυγενῆ στόλον αἰδοίῳ πνε (tlg0085.tlg001:27)\n",
      "̓ ἐν ἀσώδει θεῖναι , ξὺν ὄχῳ ταχυήρει πέμψατε πόντονδ̓ · ἔνθα δὲ λαίλαπι χειμωνοτύπ (tlg0085.tlg001:33)\n",
      "ις , τὰ δ̓ ἄελπτά περ ὄντα φανεῖται . γνώσεται δὲ λόγους τις ἐν μάκει . εἰ δὲ κυρεῖ  (tlg0085.tlg001:56)\n",
      "πόλων ἔγγαιος οἶκτον [οἰκτρὸν] ἀίων , δοξάσει τις ἀκούειν ὄπα τᾶς Τηρεΐας Μήτιδος ο (tlg0085.tlg001:60)\n",
      "ὶ ἐγὼ φιλόδυρ - τος Ἰαονίοισι νόμοισι δάπτω τὰν ἁπαλὰν Νειλοθερῆ παρειὰν ἀπειρόδα (tlg0085.tlg001:70)\n",
      "ις ἐστὶ κηδεμών . ἀλλά , θεοὶ γενέται κλύετ̓ εὖ τὸ δίκαιον ἰδόντες · ἥβᾳ μὴ τέλεον (tlg0085.tlg001:78)\n",
      "αἶσαν , ὕβριν δ̓ ἑτοίμως στυγοῦντες , πέλοιτ̓ ἂν ἔνδικοι γάμοις . ἔστι δὲ κἀκ πολέμ (tlg0085.tlg001:82)\n",
      "γοῦντες , πέλοιτ̓ ἂν ἔνδικοι γάμοις . ἔστι δὲ κἀκ πολέμου τειρομένοις βωμὸς ἀρῆς (tlg0085.tlg001:83)\n",
      "φυγάσιν ῥῦμα , δαιμόνων σέβας . εὖ δ̓ εἴη Διόθεν παναληθῶς . Διὸς ἵμερος οὐκ εὐ (tlg0085.tlg001:86)\n",
      "παναληθῶς . Διὸς ἵμερος οὐκ εὐθήρατος ἐτύχθη . παντᾷ τοι φλεγέθει κἀν σκότῳ μελαίν (tlg0085.tlg001:87)\n",
      "ερος οὐκ εὐθήρατος ἐτύχθη . παντᾷ τοι φλεγέθει κἀν σκότῳ μελαίνᾳ ξὺν τύχᾳ μερόπεσσι  (tlg0085.tlg001:88)\n",
      "τῳ μελαίνᾳ ξὺν τύχᾳ μερόπεσσι λαοῖς . πίπτει δ̓ ἀσφαλὲς οὐ δ̓ ἐπὶ νώτῳ , κορυφᾷ Δι (tlg0085.tlg001:91)\n",
      "ειον . δαυλοὶ γὰρ πραπίδων δάσκιοί τε τείνουσιν πόροι κατιδεῖν ἄφραστοι . ἰάπτει δ̓ ἐ (tlg0085.tlg001:94)\n",
      "ονίων . ἥμενος ὃν φρόνημά πως αὐτόθεν ἐξέπραξεν ἔμπας ἑδράνων ἐφ̓ ἁγνῶν . ἰδέσθω δ̓ ε (tlg0085.tlg001:102)\n",
      "ν ἐξέπραξεν ἔμπας ἑδράνων ἐφ̓ ἁγνῶν . ἰδέσθω δ̓ εἰς ὕβριν βρότειον , οἵα νεάζει πυ (tlg0085.tlg001:104)\n",
      "αγνούς . τοιαῦτα πάθεα μέλεα θρεομένα λέγω λιγέα βαρέα δακρυοπετῆ , ἰὴ ἰή , ἰηλέ (tlg0085.tlg001:112)\n"
     ]
    }
   ],
   "source": [
    "syntindex = CitableConcordanceIndex(tbtokens, tbcites, key=lambda x:x[3])\n",
    "syntindex.print_concordance(\"PRED\", lines=20)"
   ]
  },
  {
   "cell_type": "markdown",
   "metadata": {},
   "source": [
    "(**WARNING**: the formatting is not handled well when the matching token is at the beginning of the corpus. Also, I expect that the concordance will consider the ending of preciding text as \"context\" in case the match comes at the beginning of a new text...)"
   ]
  },
  {
   "cell_type": "code",
   "execution_count": 56,
   "metadata": {},
   "outputs": [
    {
     "name": "stdout",
     "output_type": "stream",
     "text": [
      "Displaying 10 of 2337 matches:\n",
      " Ζεὺς μὲν ἀφίκτωρ ἐπίδοι προφρόνως στόλον ἡ (tlg0085.tlg001:1)\n",
      "γύπτου παίδων ἀσεβῆ ̓ ξονοταζόμεναι . Δαναὸς δὲ πατὴρ καὶ βούλαρχος καὶ στασίαρχος (tlg0085.tlg001:11)\n",
      "ον , κέλσαι δ̓ Ἄργους γαῖαν , ὅθεν δὴ γένος ἡμέτερον τῆς οἰστροδόνου βοὸς ἐξ ἐπαφ (tlg0085.tlg001:16)\n",
      "ες , ὄλοιντο , πρίν ποτε λέκτρων , ὧν θέμις εἴργει , σφετεριξάμενοι πατραδέλφειαν (tlg0085.tlg001:37)\n",
      "ιν · ἐπωνυμίᾳ δ̓ ἐπεκραίνετο μόρσιμος αἰὼν εὐλόγως , Ἔπαφόν τ̓ ἐγέννασεν · ὅντ̓  (tlg0085.tlg001:46)\n",
      " ἐπιδείξω πιστὰ τεκμήρια γαιονόμοις , τὰ δ̓ ἄελπτά περ ὄντα φανεῖται . γνώσετα (tlg0085.tlg001:55)\n",
      "ερ ὄντα φανεῖται . γνώσεται δὲ λόγους τις ἐν μάκει . εἰ δὲ κυρεῖ τις πέλας οἰων (tlg0085.tlg001:57)\n",
      " δὲ λόγους τις ἐν μάκει . εἰ δὲ κυρεῖ τις πέλας οἰωνοπόλων ἔγγαιος οἶκτον [οἰκτ (tlg0085.tlg001:58)\n",
      "γαιος οἶκτον [οἰκτρὸν] ἀίων , δοξάσει τις ἀκούειν ὄπα τᾶς Τηρεΐας Μήτιδος οἰκτρ (tlg0085.tlg001:60)\n",
      "τρᾶς ἀλόχου , κιρκηλάτου τ̓ ἀηδόνος , ἅτ̓ ἀπὸ χλωρῶν πετάλων ἐργομένα πενθεῖ μὲ (tlg0085.tlg001:63)\n"
     ]
    }
   ],
   "source": [
    "syntindex.print_concordance(\"SBJ\", lines=10)"
   ]
  },
  {
   "cell_type": "markdown",
   "metadata": {},
   "source": [
    "Now let's try with indexing based on morphology. As it can be seen, the indexer is rather flexible: you can devise whatever function you can imagine and pass it to the constructor as key instead of the \"throw-away\" lambda function.\n",
    "\n",
    "However, the easiest solution for morphology based indexing is to \"massage\" the morpho tag itself and pass it to the construtor as its first argument.\n",
    "\n",
    "Let's say we want a concordance of all the accusative names. We build a list of tokens where each token is a tuple: form,pos_case, so that it will be easier to query it later"
   ]
  },
  {
   "cell_type": "code",
   "execution_count": 62,
   "metadata": {},
   "outputs": [
    {
     "name": "stdout",
     "output_type": "stream",
     "text": [
      "Displaying 20 of 2873 matches:\n",
      " στόλον ἡμέτερον νάιον ἀρθέντ̓ ἀπὸ προστομίων  (tlg0085.tlg001:2)\n",
      " Δίαν δὲ λιποῦσαι χθόνα σύγχορτον Συρίᾳ φεύγ (tlg0085.tlg001:4)\n",
      " χθόνα σύγχορτον Συρίᾳ φεύγομεν , οὔτιν̓ ἐφ̓  (tlg0085.tlg001:5)\n",
      "τον Συρίᾳ φεύγομεν , οὔτιν̓ ἐφ̓ αἵματι δημηλασίαν ψήφῳ πόλεως γνωσθεῖσαν , ἀλλ̓ αὐτογενε (tlg0085.tlg001:6)\n",
      " γνωσθεῖσαν , ἀλλ̓ αὐτογενεῖ φυξανορίᾳ γάμον Αἰγύπτου παίδων ἀσεβῆ ̓ ξονοταζόμεναι  (tlg0085.tlg001:9)\n",
      "τ̓ ἀχέων ἐπέκρανε , φεύγειν ἀνέδην διὰ κῦμ̓ ἅλιον , κέλσαι δ̓ Ἄργους γαῖαν , ὅθεν  (tlg0085.tlg001:14)\n",
      "έδην διὰ κῦμ̓ ἅλιον , κέλσαι δ̓ Ἄργους γαῖαν , ὅθεν δὴ γένος ἡμέτερον τῆς οἰστροδόν (tlg0085.tlg001:15)\n",
      "ιὸς εὐχόμενον τετέλεσται . τίν̓ ἂν οὖν χώραν εὔφρονα μᾶλλον τῆσδ̓ ἀφικοίμεθα σὺν το (tlg0085.tlg001:19)\n",
      "ὕπατοί τε θεοί , καὶ βαρύτιμοι χθόνιοι θήκας κατέχοντες , καὶ Ζεὺς σωτὴρ τρίτος , ο (tlg0085.tlg001:25)\n",
      "τος , οἰκοφύλαξ ὁσίων ἀνδρῶν , δέξασθ̓ ἱκέτην τὸν θηλυγενῆ στόλον αἰδοίῳ πνεύματι χώ (tlg0085.tlg001:27)\n",
      "ν ἀνδρῶν , δέξασθ̓ ἱκέτην τὸν θηλυγενῆ στόλον αἰδοίῳ πνεύματι χώρας · ἀρσενοπληθῆ δ̓ (tlg0085.tlg001:28)\n",
      "αἰδοίῳ πνεύματι χώρας · ἀρσενοπληθῆ δ̓ ἑσμὸν ὑβριστὴν Αἰγυπτογενῆ , πρὶν πόδα χέρσῳ (tlg0085.tlg001:30)\n",
      " πνεύματι χώρας · ἀρσενοπληθῆ δ̓ ἑσμὸν ὑβριστὴν Αἰγυπτογενῆ , πρὶν πόδα χέρσῳ τῆδ̓ ἐν  (tlg0085.tlg001:30)\n",
      "ῆ δ̓ ἑσμὸν ὑβριστὴν Αἰγυπτογενῆ , πρὶν πόδα χέρσῳ τῆδ̓ ἐν ἀσώδει θεῖναι , ξὺν ὄχῳ  (tlg0085.tlg001:31)\n",
      "ρων , ὧν θέμις εἴργει , σφετεριξάμενοι πατραδέλφειαν τήνδ̓ ἀεκόντων ἐπιβῆναι . νῦν δ̓ ἐπικε (tlg0085.tlg001:38)\n",
      "ων ἐπιβῆναι . νῦν δ̓ ἐπικεκλομένα Δῖον πόρτιν ὑπερ - πόντιον τιμάοῤ , ἶνίν τ̓ ἀνθον (tlg0085.tlg001:41)\n",
      "πικεκλομένα Δῖον πόρτιν ὑπερ - πόντιον τιμάοῤ , ἶνίν τ̓ ἀνθονομούσας προγόνου βοὸς ἐ (tlg0085.tlg001:42)\n",
      "α Δῖον πόρτιν ὑπερ - πόντιον τιμάοῤ , ἶνίν τ̓ ἀνθονομούσας προγόνου βοὸς ἐξ ἐπιπν (tlg0085.tlg001:42)\n",
      "ούσας προγόνου βοὸς ἐξ ἐπιπνοίας Ζηνὸς ἔφαψιν · ἐπωνυμίᾳ δ̓ ἐπεκραίνετο μόρσιμος αἰὼ (tlg0085.tlg001:45)\n",
      "δ̓ ἐπεκραίνετο μόρσιμος αἰὼν εὐλόγως , Ἔπαφόν τ̓ ἐγέννασεν · ὅντ̓ ἐπιλεξαμένα , νῦν  (tlg0085.tlg001:48)\n"
     ]
    }
   ],
   "source": [
    "# pos and case are the character indexed as nr 0 and 7 in the postag string\n",
    "postoks = [(w[0], w[2][0]+w[2][7]) for w in tbtokens]\n",
    "posindex = CitableConcordanceIndex(postoks, tbcites, key=lambda x:x[1])\n",
    "posindex.print_concordance(\"na\", lines=20)"
   ]
  },
  {
   "cell_type": "code",
   "execution_count": 61,
   "metadata": {},
   "outputs": [
    {
     "data": {
      "text/plain": [
       "[('Ζεὺς', 'n'),\n",
       " ('μὲν', 'g'),\n",
       " ('ἀφίκτωρ', 'n'),\n",
       " ('ἐπίδοι', 'v'),\n",
       " ('προφρόνως', 'd')]"
      ]
     },
     "execution_count": 61,
     "metadata": {},
     "output_type": "execute_result"
    }
   ],
   "source": [
    "postoks[:5]"
   ]
  },
  {
   "cell_type": "code",
   "execution_count": 63,
   "metadata": {},
   "outputs": [],
   "source": [
    "word = \"ἄναξ\""
   ]
  },
  {
   "cell_type": "code",
   "execution_count": 64,
   "metadata": {},
   "outputs": [],
   "source": [
    "half_width = (80 - len(word) - 2) // 2"
   ]
  },
  {
   "cell_type": "code",
   "execution_count": 65,
   "metadata": {},
   "outputs": [
    {
     "data": {
      "text/plain": [
       "37"
      ]
     },
     "execution_count": 65,
     "metadata": {},
     "output_type": "execute_result"
    }
   ],
   "source": [
    "half_width"
   ]
  },
  {
   "cell_type": "code",
   "execution_count": null,
   "metadata": {},
   "outputs": [],
   "source": []
  }
 ],
 "metadata": {
  "kernelspec": {
   "display_name": "Python 3",
   "language": "python",
   "name": "python3"
  },
  "language_info": {
   "codemirror_mode": {
    "name": "ipython",
    "version": 3
   },
   "file_extension": ".py",
   "mimetype": "text/x-python",
   "name": "python",
   "nbconvert_exporter": "python",
   "pygments_lexer": "ipython3",
   "version": "3.6.5"
  }
 },
 "nbformat": 4,
 "nbformat_minor": 2
}
