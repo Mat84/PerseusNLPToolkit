{
 "cells": [
  {
   "cell_type": "code",
   "execution_count": 1,
   "metadata": {},
   "outputs": [],
   "source": [
    "import sys\n",
    "sys.path.append(\"../../\")"
   ]
  },
  {
   "cell_type": "code",
   "execution_count": 2,
   "metadata": {},
   "outputs": [],
   "source": [
    "from perseus_nlp_toolkit import reader\n",
    "from importlib import reload"
   ]
  },
  {
   "cell_type": "code",
   "execution_count": 55,
   "metadata": {
    "scrolled": true
   },
   "outputs": [
    {
     "data": {
      "text/plain": [
       "<module 'perseus_nlp_toolkit.reader' from '../../perseus_nlp_toolkit/reader.py'>"
      ]
     },
     "execution_count": 55,
     "metadata": {},
     "output_type": "execute_result"
    }
   ],
   "source": [
    "reload(reader)"
   ]
  },
  {
   "cell_type": "code",
   "execution_count": 47,
   "metadata": {},
   "outputs": [],
   "source": [
    "root = '/Users/fmambrini/Documents/lavoro/treebank/files/AGDT2.X/PerseusDL-treebank_data-96df3cc/v2.1/Greek/texts/'"
   ]
  },
  {
   "cell_type": "code",
   "execution_count": 56,
   "metadata": {},
   "outputs": [],
   "source": [
    "tb = reader.AGLDTReader(root, \"tlg0011.tlg002.perseus-grc2.tb.xml\")"
   ]
  },
  {
   "cell_type": "code",
   "execution_count": 6,
   "metadata": {},
   "outputs": [],
   "source": [
    "sents = tb.sents()\n",
    "anno_sents = tb.annotated_sents()"
   ]
  },
  {
   "cell_type": "code",
   "execution_count": 11,
   "metadata": {},
   "outputs": [],
   "source": [
    "anno_words = tb.annotated_words()"
   ]
  },
  {
   "cell_type": "code",
   "execution_count": 12,
   "metadata": {},
   "outputs": [
    {
     "data": {
      "text/plain": [
       "Artificial(id='23', form='[0]', lemma=None, postag=None, head='8', relation='OBJ', cite=None, type='elliptic')"
      ]
     },
     "execution_count": 12,
     "metadata": {},
     "output_type": "execute_result"
    }
   ],
   "source": [
    "anno_words[22]"
   ]
  },
  {
   "cell_type": "code",
   "execution_count": 18,
   "metadata": {},
   "outputs": [
    {
     "name": "stdout",
     "output_type": "stream",
     "text": [
      "1 ὦ 5 5 AuxZ\n",
      "2 κοινὸν 5 5 ATR\n",
      "3 αὐτάδελφον 5 5 ATR\n",
      "4 Ἰσμήνης 5 5 ATR\n",
      "5 κάρα 8 8 ExD\n",
      "6 , 5 5 AuxX\n",
      "7 ἆῤ 8 8 AuxY\n",
      "8 οἶσθ̓ 0 0 PRED\n",
      "9 ὅ 23 8 SBJ\n",
      "10 τι 9 9 AuxZ\n",
      "11 Ζεὺς 21 21 SBJ\n",
      "12 τῶν 15 15 ATR\n",
      "13 ἀπ̓ 15 15 AuxP\n",
      "14 Οἰδίπου 13 13 ATR\n",
      "15 κακῶν 9 9 ATR\n",
      "16 ὁποῖον 21 21 OBJ\n",
      "17 οὐχὶ 21 21 AuxZ\n",
      "18 νῷν 21 21 ADV\n",
      "19 ἔτι 20 20 ADV\n",
      "20 ζώσαιν 18 18 ATR\n",
      "21 τελεῖ 23 8 PNOM\n",
      "22 ; 0 0 AuxK\n",
      "23 [0] 8 8 OBJ\n"
     ]
    }
   ],
   "source": [
    "for t in anno_sents[0]:\n",
    "    print(t.id, t.form, t.head, tb._find_true_head(t, anno_sents[0]),\n",
    "         t.relation)"
   ]
  },
  {
   "cell_type": "code",
   "execution_count": 19,
   "metadata": {},
   "outputs": [],
   "source": [
    "anno_sents_double = []\n",
    "for s in anno_sents:\n",
    "    _ = [w for w in s if isinstance(w, Artificial)]\n",
    "    if len(_) > 1:\n",
    "        anno_sents_double.append(s)"
   ]
  },
  {
   "cell_type": "code",
   "execution_count": 23,
   "metadata": {},
   "outputs": [
    {
     "data": {
      "text/plain": [
       "[Word(id='12', form='·', lemma='·', postag='u--------', head='0', relation='AuxK', cite=''),\n",
       " Artificial(id='13', form='[1]', lemma=None, postag=None, head='0', relation='PRED', cite=None, type='elliptic'),\n",
       " Artificial(id='14', form='[0]', lemma=None, postag=None, head='13', relation='OBJ', cite=None, type='elliptic')]"
      ]
     },
     "execution_count": 23,
     "metadata": {},
     "output_type": "execute_result"
    }
   ],
   "source": [
    "anno_sents_double[0][-3:]"
   ]
  },
  {
   "cell_type": "code",
   "execution_count": 25,
   "metadata": {},
   "outputs": [
    {
     "name": "stdout",
     "output_type": "stream",
     "text": [
      "1 τὸν 3 ATR 3\n",
      "2 γοῦν 13 AuxY 0\n",
      "3 ἐμὸν 4 ATR_CO 4\n",
      "4 καὶ 11 COORD 11\n",
      "5 τὸν 3 ATR 3\n",
      "6 σόν 4 ATR_CO 4\n",
      "7 ἢν 13 AuxC 0\n",
      "8 σὺ 10 SBJ 10\n",
      "9 μὴ 10 AuxZ 10\n",
      "10 θέλῃς 7 ADV 7\n",
      "11 ἀδελφόν 14 OBJ 0\n",
      "12 · 0 AuxK 0\n",
      "13 [1] 0 PRED 0\n",
      "14 [0] 13 OBJ 0\n"
     ]
    }
   ],
   "source": [
    "for w in anno_sents_double[0]:\n",
    "    print(w.id, w.form, w.head, w.relation, tb._find_true_head(w, anno_sents_double[0]))"
   ]
  },
  {
   "cell_type": "code",
   "execution_count": 27,
   "metadata": {},
   "outputs": [],
   "source": [
    "cols = \"ID FORM LEMMA PLEMMA POS PPOS FEAT PFEAT HEAD PHEAD DEPREL PDEPREL FILLPRED PRED APREDs\".split(\" \")"
   ]
  },
  {
   "cell_type": "code",
   "execution_count": 29,
   "metadata": {},
   "outputs": [
    {
     "data": {
      "text/plain": [
       "['ID',\n",
       " 'FORM',\n",
       " 'LEMMA',\n",
       " 'PLEMMA',\n",
       " 'POS',\n",
       " 'PPOS',\n",
       " 'FEAT',\n",
       " 'PFEAT',\n",
       " 'HEAD',\n",
       " 'PHEAD',\n",
       " 'DEPREL',\n",
       " 'PDEPREL',\n",
       " 'FILLPRED',\n",
       " 'PRED',\n",
       " 'APREDs']"
      ]
     },
     "execution_count": 29,
     "metadata": {},
     "output_type": "execute_result"
    }
   ],
   "source": [
    "cols"
   ]
  },
  {
   "cell_type": "code",
   "execution_count": 34,
   "metadata": {},
   "outputs": [],
   "source": [
    "w = anno_words[1]"
   ]
  },
  {
   "cell_type": "code",
   "execution_count": 42,
   "metadata": {},
   "outputs": [],
   "source": [
    "l = \"{}\\t{}\\t{}\\t_\\t{}\\t_\\t{}\\t_\\t{}\\t_\\t{}\\t_\\t_\\t_\\t_\\n\""
   ]
  },
  {
   "cell_type": "code",
   "execution_count": 43,
   "metadata": {},
   "outputs": [
    {
     "name": "stdout",
     "output_type": "stream",
     "text": [
      "2\tκοινὸν\tκοινός\t_\ta\t_\ta-s---nv-\t_\t5\t_\tATR\t_\t_\t_\t_\n",
      "\n"
     ]
    }
   ],
   "source": [
    "print(l.format(w.id, w.form,\n",
    "                  w.lemma,\n",
    "                  w.postag[0],\n",
    "                  w.postag,\n",
    "                  w.head,\n",
    "                  w.relation))"
   ]
  },
  {
   "cell_type": "code",
   "execution_count": 50,
   "metadata": {},
   "outputs": [
    {
     "data": {
      "text/plain": [
       "'tlg0011.tlg002.perseus-grc2.tb.xml'"
      ]
     },
     "execution_count": 50,
     "metadata": {},
     "output_type": "execute_result"
    }
   ],
   "source": [
    "tb.fileids()[0]"
   ]
  },
  {
   "cell_type": "code",
   "execution_count": 49,
   "metadata": {},
   "outputs": [],
   "source": [
    "anno_sents = tb.annotated_sents(fileids=tb.fileids()[0])"
   ]
  },
  {
   "cell_type": "code",
   "execution_count": 57,
   "metadata": {},
   "outputs": [],
   "source": [
    "tb.export_to_conll(anno_sents, \"/Users/fmambrini/Desktop/tlg0011.tlg002.perseus-grc2.tb.conll\")"
   ]
  },
  {
   "cell_type": "code",
   "execution_count": null,
   "metadata": {},
   "outputs": [],
   "source": []
  }
 ],
 "metadata": {
  "kernelspec": {
   "display_name": "Python 3",
   "language": "python",
   "name": "python3"
  },
  "language_info": {
   "codemirror_mode": {
    "name": "ipython",
    "version": 3
   },
   "file_extension": ".py",
   "mimetype": "text/x-python",
   "name": "python",
   "nbconvert_exporter": "python",
   "pygments_lexer": "ipython3",
   "version": "3.6.5"
  }
 },
 "nbformat": 4,
 "nbformat_minor": 2
}
