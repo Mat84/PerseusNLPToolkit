{
 "cells": [
  {
   "cell_type": "markdown",
   "metadata": {},
   "source": [
    "# Aorists in Polybius and Arrianus"
   ]
  },
  {
   "cell_type": "markdown",
   "metadata": {},
   "source": [
    "We'll make use of the `CaptainCorpusReader`, the `AGLDTReader` and the `CitableConcordanceIndex` to extract and index of the finite forms of the aorists in those two authors"
   ]
  },
  {
   "cell_type": "code",
   "execution_count": 2,
   "metadata": {},
   "outputs": [],
   "source": [
    "import sys\n",
    "sys.path.append(\"../\")\n",
    "sys.path.append(\"../../\")"
   ]
  },
  {
   "cell_type": "code",
   "execution_count": 37,
   "metadata": {},
   "outputs": [],
   "source": [
    "from perseus_nlp_toolkit.reader import CapitainCorpusReader, AGLDTReader\n",
    "from perseus_nlp_toolkit.text import CitableConcordanceIndex\n",
    "import os\n",
    "# we use etree to parse the treebank XML: if you mycapitain, then you also have lxml...\n",
    "from lxml import etree\n",
    "import re"
   ]
  },
  {
   "cell_type": "code",
   "execution_count": 9,
   "metadata": {},
   "outputs": [],
   "source": [
    "pers_root = os.path.expanduser(\"~/cltk_data/greek/text/canonical-greekLit-master/data\")"
   ]
  },
  {
   "cell_type": "code",
   "execution_count": 83,
   "metadata": {},
   "outputs": [],
   "source": [
    "arrian = CapitainCorpusReader(pers_root, \"tlg0074/tlg001/tlg0074.tlg001.perseus-grc1.xml\")"
   ]
  },
  {
   "cell_type": "markdown",
   "metadata": {},
   "source": [
    "## Polybius (treebank)"
   ]
  },
  {
   "cell_type": "markdown",
   "metadata": {},
   "source": [
    "For Polybius, we will start by indexing the aorist forms that match our constraints from [Vanessa and Bob Gorman's annotated treebanks](https://perseids-publications.github.io/gorman-trees/). The actual files can be donwloaded from the GitHub [repo](https://github.com/perseids-publications/gorman-trees) of the project."
   ]
  },
  {
   "cell_type": "markdown",
   "metadata": {},
   "source": [
    "Unfortunately, not all the text of the historian has been treebank, but it's already much; [Vanessa and Bob Gorman]() should be thanked and given a lot of credit for the service they are providing to all of us!"
   ]
  },
  {
   "cell_type": "markdown",
   "metadata": {},
   "source": [
    "### Load the files"
   ]
  },
  {
   "cell_type": "markdown",
   "metadata": {},
   "source": [
    "We use the `AGLDTReader` to read the Polybius files in memory"
   ]
  },
  {
   "cell_type": "code",
   "execution_count": 18,
   "metadata": {},
   "outputs": [],
   "source": [
    "tbroot = os.path.expanduser(\"~/cltk_data/greek/agdt/gorman-trees-master/xml/\")\n",
    "polyfs = \"polybius.*\\.xml\""
   ]
  },
  {
   "cell_type": "code",
   "execution_count": 22,
   "metadata": {},
   "outputs": [],
   "source": [
    "polybius = AGLDTReader(tbroot, polyfs)"
   ]
  },
  {
   "cell_type": "code",
   "execution_count": 23,
   "metadata": {},
   "outputs": [],
   "source": [
    "poly_words = polybius.annotated_words()"
   ]
  },
  {
   "cell_type": "code",
   "execution_count": 25,
   "metadata": {},
   "outputs": [
    {
     "data": {
      "text/plain": [
       "105694"
      ]
     },
     "execution_count": 25,
     "metadata": {},
     "output_type": "execute_result"
    }
   ],
   "source": [
    "len(poly_words)"
   ]
  },
  {
   "cell_type": "markdown",
   "metadata": {},
   "source": [
    "### Add the subdoc citation"
   ]
  },
  {
   "cell_type": "markdown",
   "metadata": {},
   "source": [
    "Unfortunately, Vanessa Gorman's treebanks don't have a token-by-token cite disambiguation, so it's not possible to get more fine-grained citation than the paragraph level. But it's already something...\n",
    "\n",
    "We'll grab that indication from the `subdoc` properties of the sentence"
   ]
  },
  {
   "cell_type": "code",
   "execution_count": 28,
   "metadata": {},
   "outputs": [],
   "source": [
    "poly_sents = polybius.annotated_sents()\n",
    "sent_meta = polybius.get_sentences_metadata()"
   ]
  },
  {
   "cell_type": "code",
   "execution_count": 33,
   "metadata": {},
   "outputs": [],
   "source": [
    "cites = []\n",
    "for m,s in zip(sent_meta, poly_sents):\n",
    "    for w in s:\n",
    "        cites.append(m.subdoc)"
   ]
  },
  {
   "cell_type": "code",
   "execution_count": 34,
   "metadata": {},
   "outputs": [
    {
     "data": {
      "text/plain": [
       "True"
      ]
     },
     "execution_count": 34,
     "metadata": {},
     "output_type": "execute_result"
    }
   ],
   "source": [
    "len(cites) == len(poly_words)"
   ]
  },
  {
   "cell_type": "markdown",
   "metadata": {},
   "source": [
    "### Create the concordances"
   ]
  },
  {
   "cell_type": "markdown",
   "metadata": {},
   "source": [
    "First we create a function that returns `True` if the tag matches our query and `False` if it doesn't"
   ]
  },
  {
   "cell_type": "code",
   "execution_count": 66,
   "metadata": {},
   "outputs": [],
   "source": [
    "# question: do we want imperatives ('m')?\n",
    "\n",
    "def is_aorist(token):\n",
    "    reg = re.compile(r'^...a[isom]....$')\n",
    "    try:\n",
    "        m = reg.search(token[1])\n",
    "    except TypeError:\n",
    "        return \"False\"\n",
    "    if m:\n",
    "        return \"True\"\n",
    "    else:\n",
    "        return \"False\""
   ]
  },
  {
   "cell_type": "code",
   "execution_count": 67,
   "metadata": {},
   "outputs": [],
   "source": [
    "tbtokens = [(t.form, t.postag) for t in poly_words]"
   ]
  },
  {
   "cell_type": "code",
   "execution_count": 68,
   "metadata": {},
   "outputs": [],
   "source": [
    "poly_conc = CitableConcordanceIndex(tbtokens, cites, is_aorist)"
   ]
  },
  {
   "cell_type": "code",
   "execution_count": 75,
   "metadata": {},
   "outputs": [
    {
     "name": "stdout",
     "output_type": "stream",
     "text": [
      "Displaying 10 of 2279 matches:\n",
      "ταύτῃ ποιεῖσθαι τῇ πόλει . φερομένους τεκμήραιτο δʼ ἄν τις τοῦ τόπου τὴν εὐκαιρίαν ἐκ  (10.1.6)\n",
      " ὁρμηθεὶς τὰς τηλικαύτας καὶ τοσαύτας ἐπετελέσατο πράξεις , ἀγνοεῖν δὲ καὶ ψευδοδοξεῖν  (10.2.2)\n",
      "ὶ τὸ προτεθὲν ἐντεταμένος , οὐθεὶς ἂν συγχωρήσειε πλὴν τῶν συμβεβιωκότων καὶ τεθεαμένων (10.3.1)\n",
      "ν καιρὸν ὁ πατὴρ αὐτοῦ τὴν ἱππομαχίαν συνεστήσατο πρὸς Ἀννίβαν περὶ τὸν Πάδον καλούμενο (10.3.3)\n",
      " τετρωμένον ἐπισφαλῶς , τὰς μὲν ἀρχὰς ἐπεβάλετο παρακαλεῖν τοὺς μεθʼ αὑτοῦ βοηθῆσαι τ (10.3.4)\n",
      "μβαλεῖν οἱ μὲν πολέμιοι καταπλαγέντες διέστησαν , ὁ δὲ Πόπλιος ἀνελπίστως σωθεὶς πρῶτ (10.3.6)\n",
      "ς σωθεὶς πρῶτος αὐτὸς τὸν υἱὸν σωτῆρα προσεφώνησε πάντων ἀκουόντων . περιγενομένης δʼ α (10.3.6)\n",
      " κατʼ ἰδίαν κινδύνους , ὅτʼ εἰς αὐτὸν ἀναρτηθεῖεν ὑπὸ τῆς πατρίδος αἱ τῶν ὅλων ἐλπίδες  (10.3.7)\n",
      "τῆς προθέσεως , εἰ συμφρονήσαντες ἅμα ποιήσαιντο τὴν ἐπιβολήν , ἦλθεν ἐπί τινα τοιαύτη (10.4.3)\n",
      "ήσαντες ἅμα ποιήσαιντο τὴν ἐπιβολήν , ἦλθεν ἐπί τινα τοιαύτην ἔννοιαν . θεωρῶν γὰ (10.4.3)\n"
     ]
    }
   ],
   "source": [
    "poly_conc.print_concordance(\"True\", lines=10)"
   ]
  },
  {
   "cell_type": "markdown",
   "metadata": {},
   "source": [
    "### Style and write out"
   ]
  },
  {
   "cell_type": "code",
   "execution_count": 79,
   "metadata": {},
   "outputs": [],
   "source": [
    "conc =  poly_conc.find_concordance(\"True\")\n",
    "h = '''<!doctype html>\n",
    "<html lang=en>\n",
    "<head>\n",
    "<meta charset=utf-8>\n",
    "<title>Polybius: aorist concordances</title>\n",
    "</head>\n",
    "<body>\n",
    "<ul>\n",
    "'''\n",
    "for c in conc:\n",
    "    h += '<li>{} <span style=\"color:blue\">{}</span> {} (<span style=\"color:green\">{}</span>)</li>\\n'.format(c.left_print,\n",
    "                                                                                                       c.query,\n",
    "                                                                                                       c.right_print,\n",
    "                                                                                                       c.cite)\n",
    "    \n",
    "h += '''</body>\n",
    "</html>\n",
    "'''"
   ]
  },
  {
   "cell_type": "code",
   "execution_count": 80,
   "metadata": {},
   "outputs": [],
   "source": [
    "with open(\"/home/francesco/Desktop/polybius_treebank.html\", \"w\") as out:\n",
    "    out.write(h)"
   ]
  },
  {
   "cell_type": "code",
   "execution_count": 82,
   "metadata": {},
   "outputs": [
    {
     "data": {
      "text/plain": [
       "'τεκμήραιτο'"
      ]
     },
     "execution_count": 82,
     "metadata": {},
     "output_type": "execute_result"
    }
   ],
   "source": [
    "conc[0].query"
   ]
  },
  {
   "cell_type": "markdown",
   "metadata": {},
   "source": [
    "## Using Morpheus"
   ]
  },
  {
   "cell_type": "code",
   "execution_count": 92,
   "metadata": {},
   "outputs": [],
   "source": [
    "import requests\n",
    "from lxml import etree\n",
    "import json"
   ]
  },
  {
   "cell_type": "code",
   "execution_count": null,
   "metadata": {},
   "outputs": [],
   "source": [
    "@functools.lru_cache(maxsize=256)\n",
    "def search_morpheus(word):\n",
    "    url = \"https://morph.perseids.org/analysis/word?lang=grc&engine=morpheusgrc&word=\" + word\n",
    "    "
   ]
  },
  {
   "cell_type": "code",
   "execution_count": 95,
   "metadata": {},
   "outputs": [],
   "source": [
    "resp = requests.get(\"https://morph.perseids.org/analysis/word?lang=grc&engine=morpheusgrc&word=%CE%BA%CF%89%CE%BB%CF%8D%CF%83%CE%B5%CE%B9\")"
   ]
  },
  {
   "cell_type": "code",
   "execution_count": 97,
   "metadata": {},
   "outputs": [],
   "source": [
    "j = resp.json()"
   ]
  },
  {
   "cell_type": "code",
   "execution_count": 100,
   "metadata": {},
   "outputs": [
    {
     "name": "stdout",
     "output_type": "stream",
     "text": [
      "{\n",
      "  \"RDF\": {\n",
      "    \"Annotation\": {\n",
      "      \"about\": \"urn:TuftsMorphologyService:\\u03ba\\u03c9\\u03bb\\u03cd\\u03c3\\u03b5\\u03b9:morpheusgrc\",\n",
      "      \"creator\": {\n",
      "        \"Agent\": {\n",
      "          \"about\": \"org.perseus:tools:morpheus.v1\"\n",
      "        }\n",
      "      },\n",
      "      \"created\": {\n",
      "        \"$\": \"2019-05-24T13:58:12.704031\"\n",
      "      },\n",
      "      \"hasTarget\": {\n",
      "        \"Description\": {\n",
      "          \"about\": \"urn:word:\\u03ba\\u03c9\\u03bb\\u03cd\\u03c3\\u03b5\\u03b9\"\n",
      "        }\n",
      "      },\n",
      "      \"title\": {},\n",
      "      \"hasBody\": [\n",
      "        {\n",
      "          \"resource\": \"urn:uuid:idm140232419604384\"\n",
      "        },\n",
      "        {\n",
      "          \"resource\": \"urn:uuid:idm140232421406720\"\n",
      "        },\n",
      "        {\n",
      "          \"resource\": \"urn:uuid:idm140232421366016\"\n",
      "        }\n",
      "      ],\n",
      "      \"Body\": [\n",
      "        {\n",
      "          \"about\": \"urn:uuid:idm140232419604384\",\n",
      "          \"type\": {\n",
      "            \"resource\": \"cnt:ContentAsXML\"\n",
      "          },\n",
      "          \"rest\": {\n",
      "            \"entry\": {\n",
      "              \"uri\": null,\n",
      "              \"dict\": {\n",
      "                \"hdwd\": {\n",
      "                  \"lang\": \"grc\",\n",
      "                  \"$\": \"\\u03ba\\u03ce\\u03bb\\u1fe1\\u03c3\\u03b9\\u03c2\"\n",
      "                },\n",
      "                \"pofs\": {\n",
      "                  \"order\": 3,\n",
      "                  \"$\": \"noun\"\n",
      "                },\n",
      "                \"decl\": {\n",
      "                  \"$\": \"3rd\"\n",
      "                },\n",
      "                \"gend\": {\n",
      "                  \"$\": \"feminine\"\n",
      "                }\n",
      "              },\n",
      "              \"infl\": [\n",
      "                {\n",
      "                  \"term\": {\n",
      "                    \"lang\": \"grc\",\n",
      "                    \"stem\": {\n",
      "                      \"$\": \"\\u03ba\\u03c9\\u03bb\\u03c5\\u03c2\"\n",
      "                    },\n",
      "                    \"suff\": {\n",
      "                      \"$\": \"\\u03b5\\u03b9\"\n",
      "                    }\n",
      "                  },\n",
      "                  \"pofs\": {\n",
      "                    \"order\": 3,\n",
      "                    \"$\": \"noun\"\n",
      "                  },\n",
      "                  \"decl\": {\n",
      "                    \"$\": \"3rd\"\n",
      "                  },\n",
      "                  \"case\": {\n",
      "                    \"order\": 7,\n",
      "                    \"$\": \"nominative\"\n",
      "                  },\n",
      "                  \"gend\": {\n",
      "                    \"$\": \"feminine\"\n",
      "                  },\n",
      "                  \"num\": {\n",
      "                    \"$\": \"dual\"\n",
      "                  },\n",
      "                  \"dial\": {\n",
      "                    \"$\": \"Attic epic\"\n",
      "                  },\n",
      "                  \"stemtype\": {\n",
      "                    \"$\": \"is_ews\"\n",
      "                  },\n",
      "                  \"morph\": {\n",
      "                    \"$\": \"contr\"\n",
      "                  }\n",
      "                },\n",
      "                {\n",
      "                  \"term\": {\n",
      "                    \"lang\": \"grc\",\n",
      "                    \"stem\": {\n",
      "                      \"$\": \"\\u03ba\\u03c9\\u03bb\\u03c5\\u03c2\"\n",
      "                    },\n",
      "                    \"suff\": {\n",
      "                      \"$\": \"\\u03b5\\u03b9\"\n",
      "                    }\n",
      "                  },\n",
      "                  \"pofs\": {\n",
      "                    \"order\": 3,\n",
      "                    \"$\": \"noun\"\n",
      "                  },\n",
      "                  \"decl\": {\n",
      "                    \"$\": \"3rd\"\n",
      "                  },\n",
      "                  \"case\": {\n",
      "                    \"order\": 1,\n",
      "                    \"$\": \"vocative\"\n",
      "                  },\n",
      "                  \"gend\": {\n",
      "                    \"$\": \"feminine\"\n",
      "                  },\n",
      "                  \"num\": {\n",
      "                    \"$\": \"dual\"\n",
      "                  },\n",
      "                  \"dial\": {\n",
      "                    \"$\": \"Attic epic\"\n",
      "                  },\n",
      "                  \"stemtype\": {\n",
      "                    \"$\": \"is_ews\"\n",
      "                  },\n",
      "                  \"morph\": {\n",
      "                    \"$\": \"contr\"\n",
      "                  }\n",
      "                },\n",
      "                {\n",
      "                  \"term\": {\n",
      "                    \"lang\": \"grc\",\n",
      "                    \"stem\": {\n",
      "                      \"$\": \"\\u03ba\\u03c9\\u03bb\\u03c5\\u03c2\"\n",
      "                    },\n",
      "                    \"suff\": {\n",
      "                      \"$\": \"\\u03b5\\u03b9\"\n",
      "                    }\n",
      "                  },\n",
      "                  \"pofs\": {\n",
      "                    \"order\": 3,\n",
      "                    \"$\": \"noun\"\n",
      "                  },\n",
      "                  \"decl\": {\n",
      "                    \"$\": \"3rd\"\n",
      "                  },\n",
      "                  \"case\": {\n",
      "                    \"order\": 4,\n",
      "                    \"$\": \"accusative\"\n",
      "                  },\n",
      "                  \"gend\": {\n",
      "                    \"$\": \"feminine\"\n",
      "                  },\n",
      "                  \"num\": {\n",
      "                    \"$\": \"dual\"\n",
      "                  },\n",
      "                  \"dial\": {\n",
      "                    \"$\": \"Attic epic\"\n",
      "                  },\n",
      "                  \"stemtype\": {\n",
      "                    \"$\": \"is_ews\"\n",
      "                  },\n",
      "                  \"morph\": {\n",
      "                    \"$\": \"contr\"\n",
      "                  }\n",
      "                },\n",
      "                {\n",
      "                  \"term\": {\n",
      "                    \"lang\": \"grc\",\n",
      "                    \"stem\": {\n",
      "                      \"$\": \"\\u03ba\\u03c9\\u03bb\\u03c5\\u03c2\"\n",
      "                    },\n",
      "                    \"suff\": {\n",
      "                      \"$\": \"\\u03b5\\u03ca\"\n",
      "                    }\n",
      "                  },\n",
      "                  \"pofs\": {\n",
      "                    \"order\": 3,\n",
      "                    \"$\": \"noun\"\n",
      "                  },\n",
      "                  \"decl\": {\n",
      "                    \"$\": \"3rd\"\n",
      "                  },\n",
      "                  \"case\": {\n",
      "                    \"order\": 5,\n",
      "                    \"$\": \"dative\"\n",
      "                  },\n",
      "                  \"gend\": {\n",
      "                    \"$\": \"feminine\"\n",
      "                  },\n",
      "                  \"num\": {\n",
      "                    \"$\": \"singular\"\n",
      "                  },\n",
      "                  \"dial\": {\n",
      "                    \"$\": \"epic\"\n",
      "                  },\n",
      "                  \"stemtype\": {\n",
      "                    \"$\": \"is_ews\"\n",
      "                  }\n",
      "                },\n",
      "                {\n",
      "                  \"term\": {\n",
      "                    \"lang\": \"grc\",\n",
      "                    \"stem\": {\n",
      "                      \"$\": \"\\u03ba\\u03c9\\u03bb\\u03c5\\u03c2\"\n",
      "                    },\n",
      "                    \"suff\": {\n",
      "                      \"$\": \"\\u03b5\\u03b9\"\n",
      "                    }\n",
      "                  },\n",
      "                  \"pofs\": {\n",
      "                    \"order\": 3,\n",
      "                    \"$\": \"noun\"\n",
      "                  },\n",
      "                  \"decl\": {\n",
      "                    \"$\": \"3rd\"\n",
      "                  },\n",
      "                  \"case\": {\n",
      "                    \"order\": 5,\n",
      "                    \"$\": \"dative\"\n",
      "                  },\n",
      "                  \"gend\": {\n",
      "                    \"$\": \"feminine\"\n",
      "                  },\n",
      "                  \"num\": {\n",
      "                    \"$\": \"singular\"\n",
      "                  },\n",
      "                  \"dial\": {\n",
      "                    \"$\": \"Attic Ionic\"\n",
      "                  },\n",
      "                  \"stemtype\": {\n",
      "                    \"$\": \"is_ews\"\n",
      "                  },\n",
      "                  \"morph\": {\n",
      "                    \"$\": \"contr\"\n",
      "                  }\n",
      "                }\n",
      "              ]\n",
      "            }\n",
      "          }\n",
      "        },\n",
      "        {\n",
      "          \"about\": \"urn:uuid:idm140232421406720\",\n",
      "          \"type\": {\n",
      "            \"resource\": \"cnt:ContentAsXML\"\n",
      "          },\n",
      "          \"rest\": {\n",
      "            \"entry\": {\n",
      "              \"uri\": null,\n",
      "              \"dict\": {\n",
      "                \"hdwd\": {\n",
      "                  \"lang\": \"grc\",\n",
      "                  \"$\": \"\\u03ba\\u03ce\\u03bb\\u03c5\\u03c3\\u03b9\\u03c2\"\n",
      "                },\n",
      "                \"pofs\": {\n",
      "                  \"order\": 3,\n",
      "                  \"$\": \"noun\"\n",
      "                },\n",
      "                \"decl\": {\n",
      "                  \"$\": \"3rd\"\n",
      "                },\n",
      "                \"gend\": {\n",
      "                  \"$\": \"feminine\"\n",
      "                }\n",
      "              },\n",
      "              \"infl\": [\n",
      "                {\n",
      "                  \"term\": {\n",
      "                    \"lang\": \"grc\",\n",
      "                    \"stem\": {\n",
      "                      \"$\": \"\\u03ba\\u03c9\\u03bb\\u03c5\\u03c2\"\n",
      "                    },\n",
      "                    \"suff\": {\n",
      "                      \"$\": \"\\u03b5\\u03b9\"\n",
      "                    }\n",
      "                  },\n",
      "                  \"pofs\": {\n",
      "                    \"order\": 3,\n",
      "                    \"$\": \"noun\"\n",
      "                  },\n",
      "                  \"decl\": {\n",
      "                    \"$\": \"3rd\"\n",
      "                  },\n",
      "                  \"case\": {\n",
      "                    \"order\": 7,\n",
      "                    \"$\": \"nominative\"\n",
      "                  },\n",
      "                  \"gend\": {\n",
      "                    \"$\": \"feminine\"\n",
      "                  },\n",
      "                  \"num\": {\n",
      "                    \"$\": \"dual\"\n",
      "                  },\n",
      "                  \"dial\": {\n",
      "                    \"$\": \"Attic epic\"\n",
      "                  },\n",
      "                  \"stemtype\": {\n",
      "                    \"$\": \"is_ews\"\n",
      "                  },\n",
      "                  \"morph\": {\n",
      "                    \"$\": \"contr\"\n",
      "                  }\n",
      "                },\n",
      "                {\n",
      "                  \"term\": {\n",
      "                    \"lang\": \"grc\",\n",
      "                    \"stem\": {\n",
      "                      \"$\": \"\\u03ba\\u03c9\\u03bb\\u03c5\\u03c2\"\n",
      "                    },\n",
      "                    \"suff\": {\n",
      "                      \"$\": \"\\u03b5\\u03b9\"\n",
      "                    }\n",
      "                  },\n",
      "                  \"pofs\": {\n",
      "                    \"order\": 3,\n",
      "                    \"$\": \"noun\"\n",
      "                  },\n",
      "                  \"decl\": {\n",
      "                    \"$\": \"3rd\"\n",
      "                  },\n",
      "                  \"case\": {\n",
      "                    \"order\": 1,\n",
      "                    \"$\": \"vocative\"\n",
      "                  },\n",
      "                  \"gend\": {\n",
      "                    \"$\": \"feminine\"\n",
      "                  },\n",
      "                  \"num\": {\n",
      "                    \"$\": \"dual\"\n",
      "                  },\n",
      "                  \"dial\": {\n",
      "                    \"$\": \"Attic epic\"\n",
      "                  },\n",
      "                  \"stemtype\": {\n",
      "                    \"$\": \"is_ews\"\n",
      "                  },\n",
      "                  \"morph\": {\n",
      "                    \"$\": \"contr\"\n",
      "                  }\n",
      "                },\n",
      "                {\n",
      "                  \"term\": {\n",
      "                    \"lang\": \"grc\",\n",
      "                    \"stem\": {\n",
      "                      \"$\": \"\\u03ba\\u03c9\\u03bb\\u03c5\\u03c2\"\n",
      "                    },\n",
      "                    \"suff\": {\n",
      "                      \"$\": \"\\u03b5\\u03b9\"\n",
      "                    }\n",
      "                  },\n",
      "                  \"pofs\": {\n",
      "                    \"order\": 3,\n",
      "                    \"$\": \"noun\"\n",
      "                  },\n",
      "                  \"decl\": {\n",
      "                    \"$\": \"3rd\"\n",
      "                  },\n",
      "                  \"case\": {\n",
      "                    \"order\": 4,\n",
      "                    \"$\": \"accusative\"\n",
      "                  },\n",
      "                  \"gend\": {\n",
      "                    \"$\": \"feminine\"\n",
      "                  },\n",
      "                  \"num\": {\n",
      "                    \"$\": \"dual\"\n",
      "                  },\n",
      "                  \"dial\": {\n",
      "                    \"$\": \"Attic epic\"\n",
      "                  },\n",
      "                  \"stemtype\": {\n",
      "                    \"$\": \"is_ews\"\n",
      "                  },\n",
      "                  \"morph\": {\n",
      "                    \"$\": \"contr\"\n",
      "                  }\n",
      "                },\n",
      "                {\n",
      "                  \"term\": {\n",
      "                    \"lang\": \"grc\",\n",
      "                    \"stem\": {\n",
      "                      \"$\": \"\\u03ba\\u03c9\\u03bb\\u03c5\\u03c2\"\n",
      "                    },\n",
      "                    \"suff\": {\n",
      "                      \"$\": \"\\u03b5\\u03ca\"\n",
      "                    }\n",
      "                  },\n",
      "                  \"pofs\": {\n",
      "                    \"order\": 3,\n",
      "                    \"$\": \"noun\"\n",
      "                  },\n",
      "                  \"decl\": {\n",
      "                    \"$\": \"3rd\"\n",
      "                  },\n",
      "                  \"case\": {\n",
      "                    \"order\": 5,\n",
      "                    \"$\": \"dative\"\n",
      "                  },\n",
      "                  \"gend\": {\n",
      "                    \"$\": \"feminine\"\n",
      "                  },\n",
      "                  \"num\": {\n",
      "                    \"$\": \"singular\"\n",
      "                  },\n",
      "                  \"dial\": {\n",
      "                    \"$\": \"epic\"\n",
      "                  },\n",
      "                  \"stemtype\": {\n",
      "                    \"$\": \"is_ews\"\n",
      "                  }\n",
      "                },\n",
      "                {\n",
      "                  \"term\": {\n",
      "                    \"lang\": \"grc\",\n",
      "                    \"stem\": {\n",
      "                      \"$\": \"\\u03ba\\u03c9\\u03bb\\u03c5\\u03c2\"\n",
      "                    },\n",
      "                    \"suff\": {\n",
      "                      \"$\": \"\\u03b5\\u03b9\"\n",
      "                    }\n",
      "                  },\n",
      "                  \"pofs\": {\n",
      "                    \"order\": 3,\n",
      "                    \"$\": \"noun\"\n",
      "                  },\n",
      "                  \"decl\": {\n",
      "                    \"$\": \"3rd\"\n",
      "                  },\n",
      "                  \"case\": {\n",
      "                    \"order\": 5,\n",
      "                    \"$\": \"dative\"\n",
      "                  },\n",
      "                  \"gend\": {\n",
      "                    \"$\": \"feminine\"\n",
      "                  },\n",
      "                  \"num\": {\n",
      "                    \"$\": \"singular\"\n",
      "                  },\n",
      "                  \"dial\": {\n",
      "                    \"$\": \"Attic Ionic\"\n",
      "                  },\n",
      "                  \"stemtype\": {\n",
      "                    \"$\": \"is_ews\"\n",
      "                  },\n",
      "                  \"morph\": {\n",
      "                    \"$\": \"contr\"\n",
      "                  }\n",
      "                }\n",
      "              ]\n",
      "            }\n",
      "          }\n",
      "        },\n",
      "        {\n",
      "          \"about\": \"urn:uuid:idm140232421366016\",\n",
      "          \"type\": {\n",
      "            \"resource\": \"cnt:ContentAsXML\"\n",
      "          },\n",
      "          \"rest\": {\n",
      "            \"entry\": {\n",
      "              \"uri\": null,\n",
      "              \"dict\": {\n",
      "                \"hdwd\": {\n",
      "                  \"lang\": \"grc\",\n",
      "                  \"$\": \"\\u03ba\\u03c9\\u03bb\\u03cd\\u03c9\"\n",
      "                },\n",
      "                \"pofs\": {\n",
      "                  \"order\": 1,\n",
      "                  \"$\": \"verb\"\n",
      "                }\n",
      "              },\n",
      "              \"infl\": [\n",
      "                {\n",
      "                  \"term\": {\n",
      "                    \"lang\": \"grc\",\n",
      "                    \"stem\": {\n",
      "                      \"$\": \"\\u03ba\\u03c9\\u03bb\\u1fe1\\u03c2\"\n",
      "                    },\n",
      "                    \"suff\": {\n",
      "                      \"$\": \"\\u03b5\\u03b9\"\n",
      "                    }\n",
      "                  },\n",
      "                  \"pofs\": {\n",
      "                    \"order\": 1,\n",
      "                    \"$\": \"verb\"\n",
      "                  },\n",
      "                  \"mood\": {\n",
      "                    \"$\": \"subjunctive\"\n",
      "                  },\n",
      "                  \"num\": {\n",
      "                    \"$\": \"singular\"\n",
      "                  },\n",
      "                  \"pers\": {\n",
      "                    \"$\": \"3rd\"\n",
      "                  },\n",
      "                  \"tense\": {\n",
      "                    \"$\": \"aorist\"\n",
      "                  },\n",
      "                  \"voice\": {\n",
      "                    \"$\": \"active\"\n",
      "                  },\n",
      "                  \"dial\": {\n",
      "                    \"$\": \"epic\"\n",
      "                  },\n",
      "                  \"stemtype\": {\n",
      "                    \"$\": \"aor1\"\n",
      "                  },\n",
      "                  \"derivtype\": {\n",
      "                    \"$\": \"reg_conj\"\n",
      "                  },\n",
      "                  \"morph\": {\n",
      "                    \"$\": \"short_subj\"\n",
      "                  }\n",
      "                },\n",
      "                {\n",
      "                  \"term\": {\n",
      "                    \"lang\": \"grc\",\n",
      "                    \"stem\": {\n",
      "                      \"$\": \"\\u03ba\\u03c9\\u03bb\\u1fe1\\u03c2\"\n",
      "                    },\n",
      "                    \"suff\": {\n",
      "                      \"$\": \"\\u03b5\\u03b9\"\n",
      "                    }\n",
      "                  },\n",
      "                  \"pofs\": {\n",
      "                    \"order\": 1,\n",
      "                    \"$\": \"verb\"\n",
      "                  },\n",
      "                  \"mood\": {\n",
      "                    \"$\": \"indicative\"\n",
      "                  },\n",
      "                  \"num\": {\n",
      "                    \"$\": \"singular\"\n",
      "                  },\n",
      "                  \"pers\": {\n",
      "                    \"$\": \"2nd\"\n",
      "                  },\n",
      "                  \"tense\": {\n",
      "                    \"$\": \"future\"\n",
      "                  },\n",
      "                  \"voice\": {\n",
      "                    \"$\": \"middle\"\n",
      "                  },\n",
      "                  \"stemtype\": {\n",
      "                    \"$\": \"reg_fut\"\n",
      "                  },\n",
      "                  \"derivtype\": {\n",
      "                    \"$\": \"reg_conj\"\n",
      "                  }\n",
      "                },\n",
      "                {\n",
      "                  \"term\": {\n",
      "                    \"lang\": \"grc\",\n",
      "                    \"stem\": {\n",
      "                      \"$\": \"\\u03ba\\u03c9\\u03bb\\u1fe1\\u03c2\"\n",
      "                    },\n",
      "                    \"suff\": {\n",
      "                      \"$\": \"\\u03b5\\u03b9\"\n",
      "                    }\n",
      "                  },\n",
      "                  \"pofs\": {\n",
      "                    \"order\": 1,\n",
      "                    \"$\": \"verb\"\n",
      "                  },\n",
      "                  \"mood\": {\n",
      "                    \"$\": \"indicative\"\n",
      "                  },\n",
      "                  \"num\": {\n",
      "                    \"$\": \"singular\"\n",
      "                  },\n",
      "                  \"pers\": {\n",
      "                    \"$\": \"3rd\"\n",
      "                  },\n",
      "                  \"tense\": {\n",
      "                    \"$\": \"future\"\n",
      "                  },\n",
      "                  \"voice\": {\n",
      "                    \"$\": \"active\"\n",
      "                  },\n",
      "                  \"stemtype\": {\n",
      "                    \"$\": \"reg_fut\"\n",
      "                  },\n",
      "                  \"derivtype\": {\n",
      "                    \"$\": \"reg_conj\"\n",
      "                  }\n",
      "                }\n",
      "              ]\n",
      "            }\n",
      "          }\n",
      "        }\n",
      "      ]\n",
      "    }\n",
      "  }\n",
      "}\n"
     ]
    }
   ],
   "source": [
    "print(json.dumps(j, indent=2))"
   ]
  },
  {
   "cell_type": "code",
   "execution_count": 101,
   "metadata": {},
   "outputs": [],
   "source": [
    "results = j[\"RDF\"][\"Annotation\"][\"Body\"]"
   ]
  },
  {
   "cell_type": "code",
   "execution_count": 104,
   "metadata": {},
   "outputs": [
    {
     "data": {
      "text/plain": [
       "{'about': 'urn:uuid:idm140232421406720',\n",
       " 'type': {'resource': 'cnt:ContentAsXML'},\n",
       " 'rest': {'entry': {'uri': None,\n",
       "   'dict': {'hdwd': {'lang': 'grc', '$': 'κώλυσις'},\n",
       "    'pofs': {'order': 3, '$': 'noun'},\n",
       "    'decl': {'$': '3rd'},\n",
       "    'gend': {'$': 'feminine'}},\n",
       "   'infl': [{'term': {'lang': 'grc',\n",
       "      'stem': {'$': 'κωλυς'},\n",
       "      'suff': {'$': 'ει'}},\n",
       "     'pofs': {'order': 3, '$': 'noun'},\n",
       "     'decl': {'$': '3rd'},\n",
       "     'case': {'order': 7, '$': 'nominative'},\n",
       "     'gend': {'$': 'feminine'},\n",
       "     'num': {'$': 'dual'},\n",
       "     'dial': {'$': 'Attic epic'},\n",
       "     'stemtype': {'$': 'is_ews'},\n",
       "     'morph': {'$': 'contr'}},\n",
       "    {'term': {'lang': 'grc', 'stem': {'$': 'κωλυς'}, 'suff': {'$': 'ει'}},\n",
       "     'pofs': {'order': 3, '$': 'noun'},\n",
       "     'decl': {'$': '3rd'},\n",
       "     'case': {'order': 1, '$': 'vocative'},\n",
       "     'gend': {'$': 'feminine'},\n",
       "     'num': {'$': 'dual'},\n",
       "     'dial': {'$': 'Attic epic'},\n",
       "     'stemtype': {'$': 'is_ews'},\n",
       "     'morph': {'$': 'contr'}},\n",
       "    {'term': {'lang': 'grc', 'stem': {'$': 'κωλυς'}, 'suff': {'$': 'ει'}},\n",
       "     'pofs': {'order': 3, '$': 'noun'},\n",
       "     'decl': {'$': '3rd'},\n",
       "     'case': {'order': 4, '$': 'accusative'},\n",
       "     'gend': {'$': 'feminine'},\n",
       "     'num': {'$': 'dual'},\n",
       "     'dial': {'$': 'Attic epic'},\n",
       "     'stemtype': {'$': 'is_ews'},\n",
       "     'morph': {'$': 'contr'}},\n",
       "    {'term': {'lang': 'grc', 'stem': {'$': 'κωλυς'}, 'suff': {'$': 'εϊ'}},\n",
       "     'pofs': {'order': 3, '$': 'noun'},\n",
       "     'decl': {'$': '3rd'},\n",
       "     'case': {'order': 5, '$': 'dative'},\n",
       "     'gend': {'$': 'feminine'},\n",
       "     'num': {'$': 'singular'},\n",
       "     'dial': {'$': 'epic'},\n",
       "     'stemtype': {'$': 'is_ews'}},\n",
       "    {'term': {'lang': 'grc', 'stem': {'$': 'κωλυς'}, 'suff': {'$': 'ει'}},\n",
       "     'pofs': {'order': 3, '$': 'noun'},\n",
       "     'decl': {'$': '3rd'},\n",
       "     'case': {'order': 5, '$': 'dative'},\n",
       "     'gend': {'$': 'feminine'},\n",
       "     'num': {'$': 'singular'},\n",
       "     'dial': {'$': 'Attic Ionic'},\n",
       "     'stemtype': {'$': 'is_ews'},\n",
       "     'morph': {'$': 'contr'}}]}}}"
      ]
     },
     "execution_count": 104,
     "metadata": {},
     "output_type": "execute_result"
    }
   ],
   "source": [
    "results[1]"
   ]
  },
  {
   "cell_type": "markdown",
   "metadata": {},
   "source": [
    "---"
   ]
  },
  {
   "cell_type": "code",
   "execution_count": 72,
   "metadata": {},
   "outputs": [],
   "source": [
    "matches = poly_conc.find_concordance(\"True\")"
   ]
  },
  {
   "cell_type": "code",
   "execution_count": 47,
   "metadata": {},
   "outputs": [],
   "source": [
    "w = poly_sents[23][31"
   ]
  },
  {
   "cell_type": "code",
   "execution_count": 36,
   "metadata": {},
   "outputs": [
    {
     "data": {
      "text/plain": [
       "'...ai....'"
      ]
     },
     "execution_count": 36,
     "metadata": {},
     "output_type": "execute_result"
    }
   ],
   "source": [
    "s.replace(\"-\", \".\")"
   ]
  },
  {
   "cell_type": "code",
   "execution_count": 56,
   "metadata": {},
   "outputs": [
    {
     "data": {
      "text/plain": [
       "Word(id='1', form='ὄντων', lemma='εἰμί', postag='v-pppang-', head='21', relation='ADV', cite=None)"
      ]
     },
     "execution_count": 56,
     "metadata": {},
     "output_type": "execute_result"
    }
   ],
   "source": [
    "poly_words[0]"
   ]
  },
  {
   "cell_type": "code",
   "execution_count": null,
   "metadata": {},
   "outputs": [],
   "source": []
  }
 ],
 "metadata": {
  "kernelspec": {
   "display_name": "perseus_nlp",
   "language": "python",
   "name": "perseus_nlp"
  },
  "language_info": {
   "codemirror_mode": {
    "name": "ipython",
    "version": 3
   },
   "file_extension": ".py",
   "mimetype": "text/x-python",
   "name": "python",
   "nbconvert_exporter": "python",
   "pygments_lexer": "ipython3",
   "version": "3.6.5"
  }
 },
 "nbformat": 4,
 "nbformat_minor": 2
}
