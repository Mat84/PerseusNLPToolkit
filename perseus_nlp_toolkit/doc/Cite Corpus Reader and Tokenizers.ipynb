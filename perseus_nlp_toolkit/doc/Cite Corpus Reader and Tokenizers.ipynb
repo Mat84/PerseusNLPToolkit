{
 "cells": [
  {
   "cell_type": "code",
   "execution_count": 1,
   "metadata": {},
   "outputs": [],
   "source": [
    "import sys\n",
    "sys.path.append(\"../\")"
   ]
  },
  {
   "cell_type": "code",
   "execution_count": 11,
   "metadata": {
    "collapsed": true
   },
   "outputs": [],
   "source": [
    "from cite_corpus_reader.reader import CapitainCorpusReader\n",
    "import cltk\n",
    "import os"
   ]
  },
  {
   "cell_type": "code",
   "execution_count": null,
   "metadata": {
    "collapsed": true
   },
   "outputs": [],
   "source": []
  },
  {
   "cell_type": "code",
   "execution_count": 12,
   "metadata": {
    "collapsed": true
   },
   "outputs": [],
   "source": [
    "fist1kroot = os.path.expanduser(\"~/cltk_data/greek/text/greek_text_first1kgreek/data\")"
   ]
  },
  {
   "cell_type": "code",
   "execution_count": 251,
   "metadata": {
    "collapsed": true
   },
   "outputs": [],
   "source": [
    "arist = CapitainCorpusReader(fist1kroot, r\"tlg0086/tlg.*/tlg.*grc1\\.xml\")"
   ]
  },
  {
   "cell_type": "code",
   "execution_count": 44,
   "metadata": {
    "scrolled": false
   },
   "outputs": [
    {
     "data": {
      "text/plain": [
       "['tlg0086/tlg001/tlg0086.tlg001.1st1K-grc1.xml',\n",
       " 'tlg0086/tlg002/tlg0086.tlg002.1st1K-grc1.xml',\n",
       " 'tlg0086/tlg003/tlg0086.tlg003.1st1K-grc1.xml',\n",
       " 'tlg0086/tlg006/tlg0086.tlg006.1st1K-grc1.xml',\n",
       " 'tlg0086/tlg008/tlg0086.tlg008.1st1K-grc1.xml',\n",
       " 'tlg0086/tlg014/tlg0086.tlg014.1st1K-grc1.xml',\n",
       " 'tlg0086/tlg016/tlg0086.tlg016.1st1K-grc1.xml',\n",
       " 'tlg0086/tlg017/tlg0086.tlg017.1st1K-grc1.xml',\n",
       " 'tlg0086/tlg018/tlg0086.tlg018.1st1K-grc1.xml',\n",
       " 'tlg0086/tlg020/tlg0086.tlg020.1st1K-grc1.xml',\n",
       " 'tlg0086/tlg022/tlg0086.tlg022.1st1K-grc1.xml',\n",
       " 'tlg0086/tlg024/tlg0086.tlg024.1st1K-grc1.xml',\n",
       " 'tlg0086/tlg026/tlg0086.tlg026.1st1K-grc1.xml',\n",
       " 'tlg0086/tlg030/tlg0086.tlg030.1st1K-grc1.xml',\n",
       " 'tlg0086/tlg031/tlg0086.tlg031.1st1K-grc1.xml',\n",
       " 'tlg0086/tlg034/tlg0086.tlg034.1st1K-grc1.xml',\n",
       " 'tlg0086/tlg037/tlg0086.tlg037.1st1K-grc1.xml',\n",
       " 'tlg0086/tlg040/tlg0086.tlg040.1st1K-grc1.xml',\n",
       " 'tlg0086/tlg041/tlg0086.tlg041.1st1K-grc1.xml',\n",
       " 'tlg0086/tlg042/tlg0086.tlg042.1st1K-grc1.xml',\n",
       " 'tlg0086/tlg044/tlg0086.tlg044.1st1K-grc1.xml',\n",
       " 'tlg0086/tlg052/tlg0086.tlg052.1st1K-grc1.xml',\n",
       " 'tlg0086/tlg054/tlg0086.tlg054.1st1K-grc1.xml']"
      ]
     },
     "execution_count": 44,
     "metadata": {},
     "output_type": "execute_result"
    }
   ],
   "source": [
    "arist.fileids()"
   ]
  },
  {
   "cell_type": "code",
   "execution_count": 194,
   "metadata": {},
   "outputs": [
    {
     "name": "stdout",
     "output_type": "stream",
     "text": [
      "CPU times: user 2.09 s, sys: 211 ms, total: 2.3 s\n",
      "Wall time: 2.53 s\n"
     ]
    }
   ],
   "source": [
    "%%time\n",
    "arist_words = arist.words()"
   ]
  },
  {
   "cell_type": "code",
   "execution_count": 154,
   "metadata": {
    "collapsed": true
   },
   "outputs": [
    {
     "data": {
      "text/plain": [
       "['εἶναι',\n",
       " 'τόδε',\n",
       " 'τῷδε',\n",
       " ',',\n",
       " 'καὶ',\n",
       " 'τί',\n",
       " 'λέγομεν',\n",
       " 'τὸ',\n",
       " 'κατὰ',\n",
       " 'παντὸς',\n",
       " 'ἢ',\n",
       " 'μηδενὸς',\n",
       " 'κατηγορεῖσθαι',\n",
       " '.',\n",
       " 'Πρότασις',\n",
       " 'μὲν',\n",
       " 'οὖν',\n",
       " 'ἐστὶ',\n",
       " 'λόγος',\n",
       " 'καταφατικὸς',\n",
       " 'ἢ',\n",
       " 'ἀποφατικὸς',\n",
       " 'τινὸς',\n",
       " 'κατά',\n",
       " 'τινος',\n",
       " '.',\n",
       " 'Οὗτος',\n",
       " 'δὲ',\n",
       " 'ἢ',\n",
       " 'καθόλου',\n",
       " 'ἢ',\n",
       " 'ἐν',\n",
       " 'μέρει',\n",
       " 'ἢ',\n",
       " 'ἀδιόριστος',\n",
       " '.',\n",
       " 'Λέγω',\n",
       " 'δὲ',\n",
       " 'καθόλου',\n",
       " 'μὲν',\n",
       " 'τὸ',\n",
       " 'παντὶ',\n",
       " 'ἢ',\n",
       " 'μηδενὶ',\n",
       " 'ὑπάρχειν',\n",
       " ',',\n",
       " 'ἐν',\n",
       " 'μέρει',\n",
       " 'δὲ',\n",
       " 'τὸ']"
      ]
     },
     "execution_count": 154,
     "metadata": {},
     "output_type": "execute_result"
    }
   ],
   "source": [
    "arist_words[50:100]"
   ]
  },
  {
   "cell_type": "code",
   "execution_count": 155,
   "metadata": {},
   "outputs": [
    {
     "data": {
      "text/plain": [
       "532493"
      ]
     },
     "execution_count": 155,
     "metadata": {},
     "output_type": "execute_result"
    }
   ],
   "source": [
    "len(arist_words)"
   ]
  },
  {
   "cell_type": "code",
   "execution_count": 46,
   "metadata": {
    "collapsed": true
   },
   "outputs": [],
   "source": [
    "dha = 'tlg0086/tlg014/tlg0086.tlg014.1st1K-grc1.xml'"
   ]
  },
  {
   "cell_type": "code",
   "execution_count": 252,
   "metadata": {
    "collapsed": true
   },
   "outputs": [],
   "source": [
    "sents = arist.sents(dha)"
   ]
  },
  {
   "cell_type": "code",
   "execution_count": 253,
   "metadata": {
    "cell_style": "split"
   },
   "outputs": [
    {
     "data": {
      "text/plain": [
       "['Ἐὰν',\n",
       " 'δέ',\n",
       " 'τι',\n",
       " 'ἄλλο',\n",
       " 'ᾖ',\n",
       " 'ὁ',\n",
       " 'ὄγκος',\n",
       " ',',\n",
       " 'ἔσται',\n",
       " 'ψυχρὰ',\n",
       " 'θιγγανομένη',\n",
       " 'καὶ',\n",
       " 'οὐ',\n",
       " 'ξηρά',\n",
       " ',',\n",
       " 'καὶ',\n",
       " 'ἀεὶ',\n",
       " 'τὸ',\n",
       " 'στόμα',\n",
       " 'ὅμοιον',\n",
       " '.']"
      ]
     },
     "execution_count": 253,
     "metadata": {},
     "output_type": "execute_result"
    }
   ],
   "source": [
    "sents[-1]"
   ]
  },
  {
   "cell_type": "code",
   "execution_count": 254,
   "metadata": {
    "cell_style": "split"
   },
   "outputs": [
    {
     "data": {
      "text/plain": [
       "[('10.7', 'Ἐὰν'),\n",
       " ('10.7', 'δέ'),\n",
       " ('10.7', 'τι'),\n",
       " ('10.7', 'ἄλλο'),\n",
       " ('10.7', 'ᾖ'),\n",
       " ('10.7', 'ὁ'),\n",
       " ('10.7', 'ὄγκος'),\n",
       " ('10.7', ','),\n",
       " ('10.7', 'ἔσται'),\n",
       " ('10.7', 'ψυχρὰ'),\n",
       " ('10.7', 'θιγγανομένη'),\n",
       " ('10.7', 'καὶ'),\n",
       " ('10.7', 'οὐ'),\n",
       " ('10.7', 'ξηρά'),\n",
       " ('10.7', ','),\n",
       " ('10.7', 'καὶ'),\n",
       " ('10.7', 'ἀεὶ'),\n",
       " ('10.7', 'τὸ'),\n",
       " ('10.7', 'στόμα'),\n",
       " ('10.7', 'ὅμοιον'),\n",
       " ('10.7', '.')]"
      ]
     },
     "execution_count": 254,
     "metadata": {},
     "output_type": "execute_result"
    }
   ],
   "source": [
    "arist.cite_sents(dha)[-1]"
   ]
  },
  {
   "cell_type": "code",
   "execution_count": 52,
   "metadata": {
    "collapsed": true
   },
   "outputs": [],
   "source": [
    "citewords=arist.cite_words(dha)"
   ]
  },
  {
   "cell_type": "code",
   "execution_count": 53,
   "metadata": {
    "scrolled": true
   },
   "outputs": [
    {
     "data": {
      "text/plain": [
       "[('10.7', 'τῆς'),\n",
       " ('10.7', 'ὑστέρας'),\n",
       " ('10.7', 'καὶ'),\n",
       " ('10.7', 'τῆς'),\n",
       " ('10.7', 'κοιλίας'),\n",
       " ('10.7', 'συρρέον'),\n",
       " ('10.7', 'ἐκ'),\n",
       " ('10.7', 'τῆς'),\n",
       " ('10.7', 'σαρκὸς'),\n",
       " ('10.7', 'δοκεῖ'),\n",
       " ('10.7', 'μύλη'),\n",
       " ('10.7', 'εἶναι'),\n",
       " ('10.7', ','),\n",
       " ('10.7', 'οὐκ'),\n",
       " ('10.7', 'οὖσα'),\n",
       " ('10.7', '.'),\n",
       " ('10.7', 'Ἔστι'),\n",
       " ('10.7', 'δ'),\n",
       " ('10.7', '’'),\n",
       " ('10.7', 'οὐ'),\n",
       " ('10.7', 'χαλεπὸν'),\n",
       " ('10.7', 'γνῶναι'),\n",
       " ('10.7', ','),\n",
       " ('10.7', 'ἂν'),\n",
       " ('10.7', 'μύλη'),\n",
       " ('10.7', 'θιγγάνουσα'),\n",
       " ('10.7', 'ᾖ'),\n",
       " ('10.7', 'τῆς'),\n",
       " ('10.7', 'ὑστέρας'),\n",
       " ('10.7', '.'),\n",
       " ('10.7', 'Ἐὰν'),\n",
       " ('10.7', 'γὰρ'),\n",
       " ('10.7', 'ᾖ'),\n",
       " ('10.7', 'εὐσταλὴς'),\n",
       " ('10.7', 'καὶ'),\n",
       " ('10.7', 'μὴ'),\n",
       " ('10.7', 'ἔχουσα'),\n",
       " ('10.7', 'αὔξησιν'),\n",
       " ('10.7', ','),\n",
       " ('10.7', 'δῆλον'),\n",
       " ('10.7', 'ὅτι'),\n",
       " ('10.7', 'οὐκ'),\n",
       " ('10.7', 'ἐν'),\n",
       " ('10.7', 'ἐκείνῃ'),\n",
       " ('10.7', 'τὸ'),\n",
       " ('10.7', 'πάθος'),\n",
       " ('10.7', '.'),\n",
       " ('10.7', 'Ἐὰν'),\n",
       " ('10.7', 'δὲ'),\n",
       " ('10.7', 'τοιαύτη'),\n",
       " ('10.7', 'ᾖ'),\n",
       " ('10.7', 'οἷον'),\n",
       " ('10.7', 'ὅτε'),\n",
       " ('10.7', 'παιδίον'),\n",
       " ('10.7', 'ἔχει'),\n",
       " ('10.7', 'μύλην'),\n",
       " ('10.7', ','),\n",
       " ('10.7', 'θερμή'),\n",
       " ('10.7', 'τε'),\n",
       " ('10.7', 'καὶ'),\n",
       " ('10.7', 'ψυχρὰ'),\n",
       " ('10.7', 'καὶ'),\n",
       " ('10.7', 'ξηρὰ'),\n",
       " ('10.7', 'ἔσται'),\n",
       " ('10.7', 'διὰ'),\n",
       " ('10.7', 'τὸ'),\n",
       " ('10.7', 'εἴσω'),\n",
       " ('10.7', 'τετράφθαι'),\n",
       " ('10.7', 'τὰ'),\n",
       " ('10.7', 'ὑγρά'),\n",
       " ('10.7', ','),\n",
       " ('10.7', 'καὶ'),\n",
       " ('10.7', 'τὸ'),\n",
       " ('10.7', 'στόμα'),\n",
       " ('10.7', 'τοιαύτη'),\n",
       " ('10.7', 'οἷον'),\n",
       " ('10.7', 'ὅταν'),\n",
       " ('10.7', 'κύωσιν'),\n",
       " ('10.7', '.'),\n",
       " ('10.7', 'Ἐὰν'),\n",
       " ('10.7', 'δέ'),\n",
       " ('10.7', 'τι'),\n",
       " ('10.7', 'ἄλλο'),\n",
       " ('10.7', 'ᾖ'),\n",
       " ('10.7', 'ὁ'),\n",
       " ('10.7', 'ὄγκος'),\n",
       " ('10.7', ','),\n",
       " ('10.7', 'ἔσται'),\n",
       " ('10.7', 'ψυχρὰ'),\n",
       " ('10.7', 'θιγγανομένη'),\n",
       " ('10.7', 'καὶ'),\n",
       " ('10.7', 'οὐ'),\n",
       " ('10.7', 'ξηρά'),\n",
       " ('10.7', ','),\n",
       " ('10.7', 'καὶ'),\n",
       " ('10.7', 'ἀεὶ'),\n",
       " ('10.7', 'τὸ'),\n",
       " ('10.7', 'στόμα'),\n",
       " ('10.7', 'ὅμοιον'),\n",
       " ('10.7', '.')]"
      ]
     },
     "execution_count": 53,
     "metadata": {},
     "output_type": "execute_result"
    }
   ],
   "source": [
    "citewords[-100:]"
   ]
  },
  {
   "cell_type": "code",
   "execution_count": 54,
   "metadata": {},
   "outputs": [
    {
     "data": {
      "text/plain": [
       "['Ἐὰν',\n",
       " 'δέ',\n",
       " 'τι',\n",
       " 'ἄλλο',\n",
       " 'ᾖ',\n",
       " 'ὁ',\n",
       " 'ὄγκος',\n",
       " ',',\n",
       " 'ἔσται',\n",
       " 'ψυχρὰ',\n",
       " 'θιγγανομένη',\n",
       " 'καὶ',\n",
       " 'οὐ',\n",
       " 'ξηρά',\n",
       " ',',\n",
       " 'καὶ',\n",
       " 'ἀεὶ',\n",
       " 'τὸ',\n",
       " 'στόμα',\n",
       " 'ὅμοιον',\n",
       " '.']"
      ]
     },
     "execution_count": 54,
     "metadata": {},
     "output_type": "execute_result"
    }
   ],
   "source": [
    "sents[-1]"
   ]
  },
  {
   "cell_type": "code",
   "execution_count": 38,
   "metadata": {
    "scrolled": true
   },
   "outputs": [
    {
     "data": {
      "text/plain": [
       "['Τῶν',\n",
       " 'δὲ',\n",
       " 'τοιούτων',\n",
       " 'ἔνια',\n",
       " 'οὐ',\n",
       " 'μόνον',\n",
       " 'μέρη',\n",
       " 'ἀλλὰ',\n",
       " 'καὶ',\n",
       " 'μέλη',\n",
       " 'καλεῖται',\n",
       " '.']"
      ]
     },
     "execution_count": 38,
     "metadata": {},
     "output_type": "execute_result"
    }
   ],
   "source": [
    "sents[1]"
   ]
  },
  {
   "cell_type": "code",
   "execution_count": 41,
   "metadata": {},
   "outputs": [
    {
     "data": {
      "text/plain": [
       "True"
      ]
     },
     "execution_count": 41,
     "metadata": {},
     "output_type": "execute_result"
    }
   ],
   "source": [
    "os.path.isfile(arist.abspath(dha))"
   ]
  },
  {
   "cell_type": "code",
   "execution_count": null,
   "metadata": {
    "collapsed": true
   },
   "outputs": [],
   "source": []
  },
  {
   "cell_type": "code",
   "execution_count": 242,
   "metadata": {
    "collapsed": true
   },
   "outputs": [],
   "source": [
    "from importlib import reload\n",
    "from cite_corpus_reader import reader\n",
    "reload(reader)\n",
    "from cite_corpus_reader.reader import CapitainCorpusReader"
   ]
  },
  {
   "cell_type": "code",
   "execution_count": 55,
   "metadata": {
    "collapsed": true
   },
   "outputs": [],
   "source": [
    "sents = arist"
   ]
  },
  {
   "cell_type": "code",
   "execution_count": 58,
   "metadata": {
    "collapsed": true
   },
   "outputs": [],
   "source": [
    "from nltk.corpus.reader.util import *\n",
    "\n",
    "text = \"\".join(concat(secs[1]))\n",
    "rawsents = arist._sent_tokenizer.tokenize(text)\n",
    "sents = [arist._word_tokenizer.tokenize(s) for s in rawsents]"
   ]
  },
  {
   "cell_type": "code",
   "execution_count": 152,
   "metadata": {
    "collapsed": true
   },
   "outputs": [],
   "source": [
    "span_sents = arist._sent_tokenizer.span_tokenize(text)"
   ]
  },
  {
   "cell_type": "code",
   "execution_count": 153,
   "metadata": {},
   "outputs": [
    {
     "data": {
      "text/plain": [
       "(0, 244)"
      ]
     },
     "execution_count": 153,
     "metadata": {},
     "output_type": "execute_result"
    }
   ],
   "source": [
    "span_sents[0]"
   ]
  },
  {
   "cell_type": "code",
   "execution_count": 140,
   "metadata": {},
   "outputs": [
    {
     "data": {
      "text/plain": [
       "'ΠΕΡΙ'"
      ]
     },
     "execution_count": 140,
     "metadata": {},
     "output_type": "execute_result"
    }
   ],
   "source": [
    "rawsents[0][0:4]"
   ]
  },
  {
   "cell_type": "code",
   "execution_count": 159,
   "metadata": {},
   "outputs": [
    {
     "data": {
      "text/plain": [
       "[47, 12, 43, 18, 17]"
      ]
     },
     "execution_count": 159,
     "metadata": {},
     "output_type": "execute_result"
    }
   ],
   "source": [
    "len(sents[0])\n",
    "slices = [len(s) for s in sents]\n",
    "slices[:5]"
   ]
  },
  {
   "cell_type": "code",
   "execution_count": 160,
   "metadata": {
    "collapsed": true
   },
   "outputs": [],
   "source": [
    "words = arist.words(dha)"
   ]
  },
  {
   "cell_type": "code",
   "execution_count": 161,
   "metadata": {},
   "outputs": [
    {
     "data": {
      "text/plain": [
       "['καὶ', 'οὐ', 'ξηρά', ',', 'καὶ', 'ἀεὶ', 'τὸ', 'στόμα', 'ὅμοιον', '.']"
      ]
     },
     "execution_count": 161,
     "metadata": {},
     "output_type": "execute_result"
    }
   ],
   "source": [
    "words[-10:]"
   ]
  },
  {
   "cell_type": "code",
   "execution_count": 163,
   "metadata": {
    "collapsed": true
   },
   "outputs": [],
   "source": [
    "from itertools import islice"
   ]
  },
  {
   "cell_type": "code",
   "execution_count": 175,
   "metadata": {
    "collapsed": true
   },
   "outputs": [],
   "source": [
    "it = iter(words)\n",
    "altsents = [[next(it) for _ in range(size)] for size in slices]"
   ]
  },
  {
   "cell_type": "code",
   "execution_count": 178,
   "metadata": {
    "collapsed": true
   },
   "outputs": [],
   "source": [
    "for s,a in zip(sents, altsents):\n",
    "    assert s==a"
   ]
  },
  {
   "cell_type": "markdown",
   "metadata": {},
   "source": [
    "## Aeschylus"
   ]
  },
  {
   "cell_type": "code",
   "execution_count": 243,
   "metadata": {
    "collapsed": true
   },
   "outputs": [],
   "source": [
    "aesch = CapitainCorpusReader(fist1kroot, \"tlg0085/tlg.+/tlg.*\\.xml\")"
   ]
  },
  {
   "cell_type": "code",
   "execution_count": 239,
   "metadata": {},
   "outputs": [
    {
     "data": {
      "text/plain": [
       "['tlg0085/tlg001/tlg0085.tlg001.opp-grc3.xml',\n",
       " 'tlg0085/tlg002/tlg0085.tlg002.opp-grc3.xml',\n",
       " 'tlg0085/tlg003/tlg0085.tlg003.opp-grc3.xml',\n",
       " 'tlg0085/tlg004/tlg0085.tlg004.opp-grc3.xml',\n",
       " 'tlg0085/tlg005/tlg0085.tlg005.opp-grc3.xml',\n",
       " 'tlg0085/tlg006/tlg0085.tlg006.opp-grc3.xml',\n",
       " 'tlg0085/tlg007/tlg0085.tlg007.opp-grc3.xml']"
      ]
     },
     "execution_count": 239,
     "metadata": {},
     "output_type": "execute_result"
    }
   ],
   "source": [
    "aesch.fileids()"
   ]
  },
  {
   "cell_type": "code",
   "execution_count": 195,
   "metadata": {},
   "outputs": [
    {
     "name": "stdout",
     "output_type": "stream",
     "text": [
      "CPU times: user 29.5 s, sys: 356 ms, total: 29.8 s\n",
      "Wall time: 31.2 s\n"
     ]
    }
   ],
   "source": [
    "%%time\n",
    "aesch_words = aesch.words()"
   ]
  },
  {
   "cell_type": "code",
   "execution_count": 263,
   "metadata": {
    "collapsed": true
   },
   "outputs": [],
   "source": [
    "a_sents = aesch.sents()"
   ]
  },
  {
   "cell_type": "code",
   "execution_count": 309,
   "metadata": {
    "collapsed": true
   },
   "outputs": [],
   "source": [
    "ag_cite_sents = aesch.cite_sents(\"tlg0085/tlg005/tlg0085.tlg005.opp-grc3.xml\")"
   ]
  },
  {
   "cell_type": "code",
   "execution_count": 269,
   "metadata": {},
   "outputs": [
    {
     "data": {
      "text/plain": [
       "[('40', 'δέκατον'),\n",
       " ('40', 'μὲν'),\n",
       " ('40', 'ἔτος'),\n",
       " ('40', 'τόδ'),\n",
       " ('40', '᾽'),\n",
       " ('40', 'ἐπεὶ'),\n",
       " ('40', 'Πριάμου'),\n",
       " ('41', 'μέγας'),\n",
       " ('41', 'ἀντίδικος'),\n",
       " ('41', ','),\n",
       " ('42', 'Μενέλαος'),\n",
       " ('42', 'ἄναξ'),\n",
       " ('42', 'ἠδ'),\n",
       " ('42', '᾽'),\n",
       " ('42', 'Ἀγαμέμνων'),\n",
       " ('42', ','),\n",
       " ('43', 'διθρόνου'),\n",
       " ('43', 'Διόθεν'),\n",
       " ('43', 'καὶ'),\n",
       " ('43', 'δισκήπτρου'),\n",
       " ('44', 'τιμῆς'),\n",
       " ('44', 'ὀχυρὸν'),\n",
       " ('44', 'ζεῦγος'),\n",
       " ('44', 'Ἀτρειδᾶν'),\n",
       " ('45', 'στόλον'),\n",
       " ('45', 'Ἀργείων'),\n",
       " ('45', 'χιλιοναύτην'),\n",
       " ('46', 'τῆσδ'),\n",
       " ('46', '᾽'),\n",
       " ('46', 'ἀπὸ'),\n",
       " ('46', 'χώρας'),\n",
       " ('47', 'ἦραν'),\n",
       " ('47', ','),\n",
       " ('47', 'στρατιῶτιν'),\n",
       " ('47', 'ἀρωγὴν'),\n",
       " ('47', ','),\n",
       " ('48', 'μέγαν'),\n",
       " ('48', 'ἐκ'),\n",
       " ('48', 'θυμοῦ'),\n",
       " ('48', 'κλάζοντες'),\n",
       " ('48', 'Ἄρη'),\n",
       " ('49', 'τρόπον'),\n",
       " ('49', 'αἰγυπιῶν'),\n",
       " ('49', ','),\n",
       " ('49', 'οἵτ'),\n",
       " ('49', '᾽'),\n",
       " ('49', 'ἐκπατίοις'),\n",
       " ('50', 'ἄλγεσι'),\n",
       " ('50', 'παίδων'),\n",
       " ('50', 'ὕπατοι'),\n",
       " ('50', 'λεχέων'),\n",
       " ('51', 'στροφοδινοῦνται'),\n",
       " ('52', 'πτερύγων'),\n",
       " ('52', 'ἐρετμοῖσιν'),\n",
       " ('52', 'ἐρεσσόμενοι'),\n",
       " ('52', ','),\n",
       " ('53', 'δεμνιοτήρη'),\n",
       " ('54', 'πόνον'),\n",
       " ('54', 'ὀρταλίχων'),\n",
       " ('54', 'ὀλέσαντες'),\n",
       " ('54', ':'),\n",
       " ('55', 'ὕπατος'),\n",
       " ('55', 'δ'),\n",
       " ('55', '᾽'),\n",
       " ('55', 'ἀίων'),\n",
       " ('55', 'ἤ'),\n",
       " ('55', 'τις'),\n",
       " ('55', 'Ἀπόλλων'),\n",
       " ('56', 'ἢ'),\n",
       " ('56', 'Πὰν'),\n",
       " ('56', 'ἢ'),\n",
       " ('56', 'Ζεὺς'),\n",
       " ('56', 'οἰωνόθροον'),\n",
       " ('57', 'γόον'),\n",
       " ('57', 'ὀξυβόαν'),\n",
       " ('57', 'τῶνδε'),\n",
       " ('57', 'μετοίκων'),\n",
       " ('58', 'ὑστερόποινον'),\n",
       " ('59', 'πέμπει'),\n",
       " ('59', 'παραβᾶσιν'),\n",
       " ('59', 'Ἐρινύν'),\n",
       " ('59', '.')]"
      ]
     },
     "execution_count": 269,
     "metadata": {},
     "output_type": "execute_result"
    }
   ],
   "source": [
    "ag_cite_sents[10]"
   ]
  },
  {
   "cell_type": "code",
   "execution_count": 258,
   "metadata": {
    "collapsed": true
   },
   "outputs": [],
   "source": [
    "cite_words = aesch.cite_words(\"tlg0085/tlg005/tlg0085.tlg005.opp-grc3.xml\")"
   ]
  },
  {
   "cell_type": "code",
   "execution_count": 259,
   "metadata": {
    "scrolled": true
   },
   "outputs": [
    {
     "data": {
      "text/plain": [
       "[('285', 'Ἀθῷον'),\n",
       " ('285', 'αἶπος'),\n",
       " ('285', 'Ζηνὸς'),\n",
       " ('285', 'ἐξεδέξατο'),\n",
       " ('285', ',')]"
      ]
     },
     "execution_count": 259,
     "metadata": {},
     "output_type": "execute_result"
    }
   ],
   "source": [
    "[w for w in cite_words if w[0] == '285']"
   ]
  },
  {
   "cell_type": "code",
   "execution_count": 227,
   "metadata": {
    "collapsed": true
   },
   "outputs": [],
   "source": [
    "text = \"\".join(concat(secs_nocite))"
   ]
  },
  {
   "cell_type": "code",
   "execution_count": 230,
   "metadata": {},
   "outputs": [
    {
     "data": {
      "text/plain": [
       "'Χθονὸς μὲν ἐς τηλουρὸν ἥκομεν πέδον, Σκύθην ἐς οἶμον, ἄβατον εἰς ἐρημίαν. Ἥφαιστε, σοὶ δὲ χρὴ μέλειν ἐπιστολὰς ἅς σοι πατὴρ ἐφεῖτο, τόνδε πρὸς πέτραις ὑψηλοκρήμνοις τὸν λεωργὸν ὀχμάσαι'"
      ]
     },
     "execution_count": 230,
     "metadata": {},
     "output_type": "execute_result"
    }
   ],
   "source": [
    "\" \".join(secs_nocite[:5])"
   ]
  },
  {
   "cell_type": "code",
   "execution_count": 261,
   "metadata": {},
   "outputs": [
    {
     "data": {
      "text/plain": [
       "('1.2', 10224, 11057)"
      ]
     },
     "execution_count": 261,
     "metadata": {},
     "output_type": "execute_result"
    }
   ],
   "source": [
    "ref[1]"
   ]
  },
  {
   "cell_type": "code",
   "execution_count": 262,
   "metadata": {},
   "outputs": [
    {
     "data": {
      "text/plain": [
       "'Πάντων δ’ ἐστὶ τῶν ζῴων κοινὰ μόρια, ᾧ δέχεται τὴν τροφὴν καὶ εἰς ὃ δέχεται·\\n\\t\\t\\t\\t\\t\\t\\tταῦτα δ’ ἐστὶ ταὐτὰ καὶ ἕτερα κατὰ τοὺς εἰρημένους τρόπους, ἢ κατ’ εἶδος ἢ καθ’\\n\\t\\t\\t\\t\\t\\t\\tὑπεροχὴν ἢ κατ’ ἀναλογίαν ἢ τῇ θέσει διαφέροντα. Μετὰ δὲ ταῦτα ἄλλα κοινὰ\\n\\t\\t\\t\\t\\t\\t\\tμόρια ἔχει τὰ πλεῖστα τῶν ζῴων πρὸς τούτοις, ᾗ ἀφίησι τὸ περίττωμα τῆς τροφῆς καὶ\\n\\t\\t\\t\\t\\t\\t\\tᾗ λαμβάνει· οὐ γὰρ πᾶσιν ὑπάρχει τοῦτο. Καλεῖται δ’ ᾗ μὲν λαμβάνει, στόμα,\\n\\t\\t\\t\\t\\t\\t\\t εἰς ὃ δὲ δέχεται, κοιλία· τὸ δὲ λοιπὸν πολυώνυμόν ἐστιν. Τοῦ δὲ περιττώματος\\n\\t\\t\\t\\t\\t\\t\\tὄντος διττοῦ, ὅσα μὲν ἔχει δεκτικὰ μόρια τοῦ ὑγροῦ περιττώματος, ἔχει καὶ τῆς\\n\\t\\t\\t\\t\\t\\t\\tξηρᾶς τροφῆς, ὅσα δὲ ταύτης, ἐκείνης οὐ πάντα. Διὸ ὅσα μὲν κύστιν ἔχει, καὶ\\n\\t\\t\\t\\t\\t\\t\\tκοιλίαν ἔχει, ὅσα δὲ κοιλίαν ἔχει, οὐ πάντα κύστιν ἔχει. Ὀνομάζεται γὰρ τὸ μὲν\\n\\t\\t\\t\\t\\t\\t\\tτῆς ὑγρᾶς περιττώσεως δεκτικὸν μόριον κύστις, κοιλία δὲ τὸ τῆς ξηρᾶς.  '"
      ]
     },
     "execution_count": 262,
     "metadata": {},
     "output_type": "execute_result"
    }
   ],
   "source": [
    "arist.raw(dha)[10224:11057]"
   ]
  },
  {
   "cell_type": "code",
   "execution_count": 308,
   "metadata": {
    "collapsed": true
   },
   "outputs": [],
   "source": [
    "x = aesch.cite_sents()"
   ]
  },
  {
   "cell_type": "code",
   "execution_count": 392,
   "metadata": {
    "collapsed": true
   },
   "outputs": [],
   "source": [
    "perroot = os.path.expanduser(\"~/cltk_data/greek/text/canonical-greekLit-master/data/\")"
   ]
  },
  {
   "cell_type": "code",
   "execution_count": 395,
   "metadata": {
    "collapsed": true
   },
   "outputs": [],
   "source": [
    "arg = CapitainCorpusReader(perroot, \"tlg0001/tlg001/tlg.*\\.xml\", sent_tokenizer=sentence_tokenizer)"
   ]
  },
  {
   "cell_type": "code",
   "execution_count": 287,
   "metadata": {
    "collapsed": true
   },
   "outputs": [],
   "source": [
    "sizes = [len(s) for s in argsents]"
   ]
  },
  {
   "cell_type": "code",
   "execution_count": 299,
   "metadata": {},
   "outputs": [
    {
     "data": {
      "text/plain": [
       "'tlg0001/tlg001/tlg0001.tlg001.perseus-grc2.xml'"
      ]
     },
     "execution_count": 299,
     "metadata": {},
     "output_type": "execute_result"
    }
   ],
   "source": [
    "arg.fileids()[0]"
   ]
  },
  {
   "cell_type": "code",
   "execution_count": 289,
   "metadata": {
    "collapsed": true
   },
   "outputs": [],
   "source": [
    "_cite_words = arg._read_words(arg._get_citable_text(arg.fileids()[0]), include_cites=True)"
   ]
  },
  {
   "cell_type": "code",
   "execution_count": 324,
   "metadata": {
    "collapsed": true
   },
   "outputs": [],
   "source": [
    "it = iter(_cite_words)"
   ]
  },
  {
   "cell_type": "code",
   "execution_count": 325,
   "metadata": {
    "collapsed": true
   },
   "outputs": [],
   "source": [
    "cite_sents = []\n",
    "for size in sizes:\n",
    "    sent = []\n",
    "    for _ in range(size):\n",
    "        try:\n",
    "            sent.append(next(it))\n",
    "        except StopIteration:\n",
    "            continue\n",
    "    cite_sents.append(sent)"
   ]
  },
  {
   "cell_type": "code",
   "execution_count": 328,
   "metadata": {
    "collapsed": true
   },
   "outputs": [],
   "source": [
    "include_cites = False\n",
    "\n",
    "capitain_file = arg._get_citable_text(arg.fileids()[0])\n",
    "secs = arg._read_paras(capitain_file, include_cites)\n",
    "text = \" \".join(secs) if not include_cites else \"\".join(secs[1])"
   ]
  },
  {
   "cell_type": "code",
   "execution_count": 329,
   "metadata": {
    "collapsed": true
   },
   "outputs": [],
   "source": [
    "words = arg._word_tokenizer.tokenize(text)"
   ]
  },
  {
   "cell_type": "code",
   "execution_count": 332,
   "metadata": {},
   "outputs": [
    {
     "data": {
      "text/plain": [
       "[['How', 'do', 'you', 'do', '?'], ['Ma', 'che', 'cazzo', 'fai', '?']]"
      ]
     },
     "execution_count": 332,
     "metadata": {},
     "output_type": "execute_result"
    }
   ],
   "source": [
    "[arg._word_tokenizer.tokenize(s)\n",
    " for s in arg._sent_tokenizer.tokenize(\"How do you do? Ma che cazzo fai?\")]"
   ]
  },
  {
   "cell_type": "code",
   "execution_count": 327,
   "metadata": {},
   "outputs": [
    {
     "data": {
      "text/plain": [
       "[('4.1776', '·'),\n",
       " ('4.1776', 'ἐπεὶ'),\n",
       " ('4.1776', 'οὔ'),\n",
       " ('4.1776', 'νύ'),\n",
       " ('4.1776', 'τις'),\n",
       " ('4.1776', 'ὔμμιν'),\n",
       " ('4.1776', 'ἄεθλος'),\n",
       " ('4.1777', 'αὖτις'),\n",
       " ('4.1777', 'ἀπʼ'),\n",
       " ('4.1777', 'Αἰγίνηθεν'),\n",
       " ('4.1777', 'ἀνερχομένοισιν'),\n",
       " ('4.1777', 'ἐτύχθη'),\n",
       " ('4.1777', ','),\n",
       " ('4.1778', 'οὔτʼ'),\n",
       " ('4.1778', 'ἀνέμων'),\n",
       " ('4.1778', 'ἐριῶλαι'),\n",
       " ('4.1778', 'ἐνέσταθεν'),\n",
       " ('4.1778', '·'),\n",
       " ('4.1778', 'ἀλλὰ'),\n",
       " ('4.1778', 'ἕκηλοι'),\n",
       " ('4.1779', 'γαῖαν'),\n",
       " ('4.1779', 'Κεκροπίην'),\n",
       " ('4.1779', 'παρά'),\n",
       " ('4.1779', 'τʼ'),\n",
       " ('4.1779', 'Αὐλίδα'),\n",
       " ('4.1779', 'μετρήσαντες'),\n",
       " ('4.1780', 'Εὐβοίης'),\n",
       " ('4.1780', 'ἔντοσθεν'),\n",
       " ('4.1780', 'Ὀπούντιά'),\n",
       " ('4.1780', 'τʼ'),\n",
       " ('4.1780', 'ἄστεα'),\n",
       " ('4.1780', 'Λοκρῶν'),\n",
       " ('4.1781', 'ἀσπασίως'),\n",
       " ('4.1781', 'ἀκτὰς'),\n",
       " ('4.1781', 'Παγασηίδας'),\n",
       " ('4.1781', 'εἰσαπέβητε'),\n",
       " ('4.1781', '.')]"
      ]
     },
     "execution_count": 327,
     "metadata": {},
     "output_type": "execute_result"
    }
   ],
   "source": [
    "cite_sents[-1]"
   ]
  },
  {
   "cell_type": "code",
   "execution_count": 286,
   "metadata": {},
   "outputs": [
    {
     "ename": "StopIteration",
     "evalue": "",
     "traceback": [
      "\u001b[0;31m---------------------------------------------------------------------------\u001b[0m",
      "\u001b[0;31mStopIteration\u001b[0m                             Traceback (most recent call last)",
      "\u001b[0;32m<ipython-input-286-55dc58eb71d0>\u001b[0m in \u001b[0;36m<module>\u001b[0;34m()\u001b[0m\n\u001b[0;32m----> 1\u001b[0;31m \u001b[0mget_ipython\u001b[0m\u001b[0;34m(\u001b[0m\u001b[0;34m)\u001b[0m\u001b[0;34m.\u001b[0m\u001b[0mrun_cell_magic\u001b[0m\u001b[0;34m(\u001b[0m\u001b[0;34m'time'\u001b[0m\u001b[0;34m,\u001b[0m \u001b[0;34m''\u001b[0m\u001b[0;34m,\u001b[0m \u001b[0;34m'argsents = arg.cite_sents(arg.fileids()[0])'\u001b[0m\u001b[0;34m)\u001b[0m\u001b[0;34m\u001b[0m\u001b[0m\n\u001b[0m",
      "\u001b[0;32m/Users/fmambrini/anaconda/lib/python3.6/site-packages/IPython/core/interactiveshell.py\u001b[0m in \u001b[0;36mrun_cell_magic\u001b[0;34m(self, magic_name, line, cell)\u001b[0m\n\u001b[1;32m   2113\u001b[0m             \u001b[0mmagic_arg_s\u001b[0m \u001b[0;34m=\u001b[0m \u001b[0mself\u001b[0m\u001b[0;34m.\u001b[0m\u001b[0mvar_expand\u001b[0m\u001b[0;34m(\u001b[0m\u001b[0mline\u001b[0m\u001b[0;34m,\u001b[0m \u001b[0mstack_depth\u001b[0m\u001b[0;34m)\u001b[0m\u001b[0;34m\u001b[0m\u001b[0m\n\u001b[1;32m   2114\u001b[0m             \u001b[0;32mwith\u001b[0m \u001b[0mself\u001b[0m\u001b[0;34m.\u001b[0m\u001b[0mbuiltin_trap\u001b[0m\u001b[0;34m:\u001b[0m\u001b[0;34m\u001b[0m\u001b[0m\n\u001b[0;32m-> 2115\u001b[0;31m                 \u001b[0mresult\u001b[0m \u001b[0;34m=\u001b[0m \u001b[0mfn\u001b[0m\u001b[0;34m(\u001b[0m\u001b[0mmagic_arg_s\u001b[0m\u001b[0;34m,\u001b[0m \u001b[0mcell\u001b[0m\u001b[0;34m)\u001b[0m\u001b[0;34m\u001b[0m\u001b[0m\n\u001b[0m\u001b[1;32m   2116\u001b[0m             \u001b[0;32mreturn\u001b[0m \u001b[0mresult\u001b[0m\u001b[0;34m\u001b[0m\u001b[0m\n\u001b[1;32m   2117\u001b[0m \u001b[0;34m\u001b[0m\u001b[0m\n",
      "\u001b[0;32m<decorator-gen-59>\u001b[0m in \u001b[0;36mtime\u001b[0;34m(self, line, cell, local_ns)\u001b[0m\n",
      "\u001b[0;32m/Users/fmambrini/anaconda/lib/python3.6/site-packages/IPython/core/magic.py\u001b[0m in \u001b[0;36m<lambda>\u001b[0;34m(f, *a, **k)\u001b[0m\n\u001b[1;32m    186\u001b[0m     \u001b[0;31m# but it's overkill for just that one bit of state.\u001b[0m\u001b[0;34m\u001b[0m\u001b[0;34m\u001b[0m\u001b[0m\n\u001b[1;32m    187\u001b[0m     \u001b[0;32mdef\u001b[0m \u001b[0mmagic_deco\u001b[0m\u001b[0;34m(\u001b[0m\u001b[0marg\u001b[0m\u001b[0;34m)\u001b[0m\u001b[0;34m:\u001b[0m\u001b[0;34m\u001b[0m\u001b[0m\n\u001b[0;32m--> 188\u001b[0;31m         \u001b[0mcall\u001b[0m \u001b[0;34m=\u001b[0m \u001b[0;32mlambda\u001b[0m \u001b[0mf\u001b[0m\u001b[0;34m,\u001b[0m \u001b[0;34m*\u001b[0m\u001b[0ma\u001b[0m\u001b[0;34m,\u001b[0m \u001b[0;34m**\u001b[0m\u001b[0mk\u001b[0m\u001b[0;34m:\u001b[0m \u001b[0mf\u001b[0m\u001b[0;34m(\u001b[0m\u001b[0;34m*\u001b[0m\u001b[0ma\u001b[0m\u001b[0;34m,\u001b[0m \u001b[0;34m**\u001b[0m\u001b[0mk\u001b[0m\u001b[0;34m)\u001b[0m\u001b[0;34m\u001b[0m\u001b[0m\n\u001b[0m\u001b[1;32m    189\u001b[0m \u001b[0;34m\u001b[0m\u001b[0m\n\u001b[1;32m    190\u001b[0m         \u001b[0;32mif\u001b[0m \u001b[0mcallable\u001b[0m\u001b[0;34m(\u001b[0m\u001b[0marg\u001b[0m\u001b[0;34m)\u001b[0m\u001b[0;34m:\u001b[0m\u001b[0;34m\u001b[0m\u001b[0m\n",
      "\u001b[0;32m/Users/fmambrini/anaconda/lib/python3.6/site-packages/IPython/core/magics/execution.py\u001b[0m in \u001b[0;36mtime\u001b[0;34m(self, line, cell, local_ns)\u001b[0m\n\u001b[1;32m   1183\u001b[0m         \u001b[0;32melse\u001b[0m\u001b[0;34m:\u001b[0m\u001b[0;34m\u001b[0m\u001b[0m\n\u001b[1;32m   1184\u001b[0m             \u001b[0mst\u001b[0m \u001b[0;34m=\u001b[0m \u001b[0mclock2\u001b[0m\u001b[0;34m(\u001b[0m\u001b[0;34m)\u001b[0m\u001b[0;34m\u001b[0m\u001b[0m\n\u001b[0;32m-> 1185\u001b[0;31m             \u001b[0mexec\u001b[0m\u001b[0;34m(\u001b[0m\u001b[0mcode\u001b[0m\u001b[0;34m,\u001b[0m \u001b[0mglob\u001b[0m\u001b[0;34m,\u001b[0m \u001b[0mlocal_ns\u001b[0m\u001b[0;34m)\u001b[0m\u001b[0;34m\u001b[0m\u001b[0m\n\u001b[0m\u001b[1;32m   1186\u001b[0m             \u001b[0mend\u001b[0m \u001b[0;34m=\u001b[0m \u001b[0mclock2\u001b[0m\u001b[0;34m(\u001b[0m\u001b[0;34m)\u001b[0m\u001b[0;34m\u001b[0m\u001b[0m\n\u001b[1;32m   1187\u001b[0m             \u001b[0mout\u001b[0m \u001b[0;34m=\u001b[0m \u001b[0;32mNone\u001b[0m\u001b[0;34m\u001b[0m\u001b[0m\n",
      "\u001b[0;32m<timed exec>\u001b[0m in \u001b[0;36m<module>\u001b[0;34m()\u001b[0m\n",
      "\u001b[0;32m/Users/fmambrini/PycharmProjects/PerseusNLPToolkit/cite_corpus_reader/reader.py\u001b[0m in \u001b[0;36mcite_sents\u001b[0;34m(self, fileid)\u001b[0m\n\u001b[1;32m    166\u001b[0m             \u001b[0;32mraise\u001b[0m \u001b[0mTypeError\u001b[0m\u001b[0;34m(\u001b[0m\u001b[0;34m'Expected a single file identifier string'\u001b[0m\u001b[0;34m)\u001b[0m\u001b[0;34m\u001b[0m\u001b[0m\n\u001b[1;32m    167\u001b[0m         \u001b[0mtext\u001b[0m \u001b[0;34m=\u001b[0m \u001b[0mself\u001b[0m\u001b[0;34m.\u001b[0m\u001b[0m_get_citable_text\u001b[0m\u001b[0;34m(\u001b[0m\u001b[0mfileid\u001b[0m\u001b[0;34m)\u001b[0m\u001b[0;34m\u001b[0m\u001b[0m\n\u001b[0;32m--> 168\u001b[0;31m         \u001b[0;32mreturn\u001b[0m \u001b[0mself\u001b[0m\u001b[0;34m.\u001b[0m\u001b[0m_read_sents\u001b[0m\u001b[0;34m(\u001b[0m\u001b[0mtext\u001b[0m\u001b[0;34m,\u001b[0m \u001b[0minclude_cites\u001b[0m\u001b[0;34m=\u001b[0m\u001b[0;32mTrue\u001b[0m\u001b[0;34m)\u001b[0m\u001b[0;34m\u001b[0m\u001b[0m\n\u001b[0m\u001b[1;32m    169\u001b[0m \u001b[0;34m\u001b[0m\u001b[0m\n\u001b[1;32m    170\u001b[0m     \u001b[0;32mdef\u001b[0m \u001b[0mparas\u001b[0m\u001b[0;34m(\u001b[0m\u001b[0mself\u001b[0m\u001b[0;34m,\u001b[0m \u001b[0mfileids\u001b[0m\u001b[0;34m=\u001b[0m\u001b[0;32mNone\u001b[0m\u001b[0;34m)\u001b[0m\u001b[0;34m:\u001b[0m\u001b[0;34m\u001b[0m\u001b[0m\n",
      "\u001b[0;32m/Users/fmambrini/PycharmProjects/PerseusNLPToolkit/cite_corpus_reader/reader.py\u001b[0m in \u001b[0;36m_read_sents\u001b[0;34m(self, capitain_file, include_cites)\u001b[0m\n\u001b[1;32m    207\u001b[0m             \u001b[0m_cite_words\u001b[0m \u001b[0;34m=\u001b[0m \u001b[0mself\u001b[0m\u001b[0;34m.\u001b[0m\u001b[0m_read_words\u001b[0m\u001b[0;34m(\u001b[0m\u001b[0mcapitain_file\u001b[0m\u001b[0;34m,\u001b[0m \u001b[0minclude_cites\u001b[0m\u001b[0;34m=\u001b[0m\u001b[0;32mTrue\u001b[0m\u001b[0;34m)\u001b[0m\u001b[0;34m\u001b[0m\u001b[0m\n\u001b[1;32m    208\u001b[0m             \u001b[0mit\u001b[0m \u001b[0;34m=\u001b[0m \u001b[0miter\u001b[0m\u001b[0;34m(\u001b[0m\u001b[0m_cite_words\u001b[0m\u001b[0;34m)\u001b[0m\u001b[0;34m\u001b[0m\u001b[0m\n\u001b[0;32m--> 209\u001b[0;31m             \u001b[0mcite_sents\u001b[0m \u001b[0;34m=\u001b[0m \u001b[0;34m[\u001b[0m\u001b[0;34m[\u001b[0m\u001b[0mnext\u001b[0m\u001b[0;34m(\u001b[0m\u001b[0mit\u001b[0m\u001b[0;34m)\u001b[0m \u001b[0;32mfor\u001b[0m \u001b[0m_\u001b[0m \u001b[0;32min\u001b[0m \u001b[0mrange\u001b[0m\u001b[0;34m(\u001b[0m\u001b[0msize\u001b[0m\u001b[0;34m)\u001b[0m\u001b[0;34m]\u001b[0m \u001b[0;32mfor\u001b[0m \u001b[0msize\u001b[0m \u001b[0;32min\u001b[0m \u001b[0msizes\u001b[0m\u001b[0;34m]\u001b[0m\u001b[0;34m\u001b[0m\u001b[0m\n\u001b[0m\u001b[1;32m    210\u001b[0m             \u001b[0;32mreturn\u001b[0m \u001b[0mcite_sents\u001b[0m\u001b[0;34m\u001b[0m\u001b[0m\n\u001b[1;32m    211\u001b[0m \u001b[0;34m\u001b[0m\u001b[0m\n",
      "\u001b[0;32m/Users/fmambrini/PycharmProjects/PerseusNLPToolkit/cite_corpus_reader/reader.py\u001b[0m in \u001b[0;36m<listcomp>\u001b[0;34m(.0)\u001b[0m\n\u001b[1;32m    207\u001b[0m             \u001b[0m_cite_words\u001b[0m \u001b[0;34m=\u001b[0m \u001b[0mself\u001b[0m\u001b[0;34m.\u001b[0m\u001b[0m_read_words\u001b[0m\u001b[0;34m(\u001b[0m\u001b[0mcapitain_file\u001b[0m\u001b[0;34m,\u001b[0m \u001b[0minclude_cites\u001b[0m\u001b[0;34m=\u001b[0m\u001b[0;32mTrue\u001b[0m\u001b[0;34m)\u001b[0m\u001b[0;34m\u001b[0m\u001b[0m\n\u001b[1;32m    208\u001b[0m             \u001b[0mit\u001b[0m \u001b[0;34m=\u001b[0m \u001b[0miter\u001b[0m\u001b[0;34m(\u001b[0m\u001b[0m_cite_words\u001b[0m\u001b[0;34m)\u001b[0m\u001b[0;34m\u001b[0m\u001b[0m\n\u001b[0;32m--> 209\u001b[0;31m             \u001b[0mcite_sents\u001b[0m \u001b[0;34m=\u001b[0m \u001b[0;34m[\u001b[0m\u001b[0;34m[\u001b[0m\u001b[0mnext\u001b[0m\u001b[0;34m(\u001b[0m\u001b[0mit\u001b[0m\u001b[0;34m)\u001b[0m \u001b[0;32mfor\u001b[0m \u001b[0m_\u001b[0m \u001b[0;32min\u001b[0m \u001b[0mrange\u001b[0m\u001b[0;34m(\u001b[0m\u001b[0msize\u001b[0m\u001b[0;34m)\u001b[0m\u001b[0;34m]\u001b[0m \u001b[0;32mfor\u001b[0m \u001b[0msize\u001b[0m \u001b[0;32min\u001b[0m \u001b[0msizes\u001b[0m\u001b[0;34m]\u001b[0m\u001b[0;34m\u001b[0m\u001b[0m\n\u001b[0m\u001b[1;32m    210\u001b[0m             \u001b[0;32mreturn\u001b[0m \u001b[0mcite_sents\u001b[0m\u001b[0;34m\u001b[0m\u001b[0m\n\u001b[1;32m    211\u001b[0m \u001b[0;34m\u001b[0m\u001b[0m\n",
      "\u001b[0;32m/Users/fmambrini/PycharmProjects/PerseusNLPToolkit/cite_corpus_reader/reader.py\u001b[0m in \u001b[0;36m<listcomp>\u001b[0;34m(.0)\u001b[0m\n\u001b[1;32m    207\u001b[0m             \u001b[0m_cite_words\u001b[0m \u001b[0;34m=\u001b[0m \u001b[0mself\u001b[0m\u001b[0;34m.\u001b[0m\u001b[0m_read_words\u001b[0m\u001b[0;34m(\u001b[0m\u001b[0mcapitain_file\u001b[0m\u001b[0;34m,\u001b[0m \u001b[0minclude_cites\u001b[0m\u001b[0;34m=\u001b[0m\u001b[0;32mTrue\u001b[0m\u001b[0;34m)\u001b[0m\u001b[0;34m\u001b[0m\u001b[0m\n\u001b[1;32m    208\u001b[0m             \u001b[0mit\u001b[0m \u001b[0;34m=\u001b[0m \u001b[0miter\u001b[0m\u001b[0;34m(\u001b[0m\u001b[0m_cite_words\u001b[0m\u001b[0;34m)\u001b[0m\u001b[0;34m\u001b[0m\u001b[0m\n\u001b[0;32m--> 209\u001b[0;31m             \u001b[0mcite_sents\u001b[0m \u001b[0;34m=\u001b[0m \u001b[0;34m[\u001b[0m\u001b[0;34m[\u001b[0m\u001b[0mnext\u001b[0m\u001b[0;34m(\u001b[0m\u001b[0mit\u001b[0m\u001b[0;34m)\u001b[0m \u001b[0;32mfor\u001b[0m \u001b[0m_\u001b[0m \u001b[0;32min\u001b[0m \u001b[0mrange\u001b[0m\u001b[0;34m(\u001b[0m\u001b[0msize\u001b[0m\u001b[0;34m)\u001b[0m\u001b[0;34m]\u001b[0m \u001b[0;32mfor\u001b[0m \u001b[0msize\u001b[0m \u001b[0;32min\u001b[0m \u001b[0msizes\u001b[0m\u001b[0;34m]\u001b[0m\u001b[0;34m\u001b[0m\u001b[0m\n\u001b[0m\u001b[1;32m    210\u001b[0m             \u001b[0;32mreturn\u001b[0m \u001b[0mcite_sents\u001b[0m\u001b[0;34m\u001b[0m\u001b[0m\n\u001b[1;32m    211\u001b[0m \u001b[0;34m\u001b[0m\u001b[0m\n",
      "\u001b[0;31mStopIteration\u001b[0m: "
     ],
     "output_type": "error"
    }
   ],
   "source": [
    "%%time\n",
    "argsents = arg.cite_sents(arg.fileids()[0])"
   ]
  },
  {
   "cell_type": "code",
   "execution_count": 285,
   "metadata": {},
   "outputs": [
    {
     "data": {
      "text/plain": [
       "['ἀρχόμενος',\n",
       " 'σέο',\n",
       " ',',\n",
       " 'Φοῖβε',\n",
       " ',',\n",
       " 'παλαιγενέων',\n",
       " 'κλέα',\n",
       " 'φωτῶν',\n",
       " 'μνήσομαι',\n",
       " ',',\n",
       " 'οἳ',\n",
       " 'Πόντοιο',\n",
       " 'κατὰ',\n",
       " 'στόμα',\n",
       " 'καὶ',\n",
       " 'διὰ',\n",
       " 'πέτρας',\n",
       " 'Κυανέας',\n",
       " 'βασιλῆος',\n",
       " 'ἐφημοσύνῃ',\n",
       " 'Πελίαο',\n",
       " 'χρύσειον',\n",
       " 'μετὰ',\n",
       " 'κῶας',\n",
       " 'ἐύζυγον',\n",
       " 'ἤλασαν',\n",
       " 'Ἀργώ',\n",
       " '.']"
      ]
     },
     "execution_count": 285,
     "metadata": {},
     "output_type": "execute_result"
    }
   ],
   "source": [
    "argsents[0]"
   ]
  },
  {
   "cell_type": "code",
   "execution_count": 310,
   "metadata": {},
   "outputs": [
    {
     "name": "stdout",
     "output_type": "stream",
     "text": [
      "CPU times: user 17.2 s, sys: 174 ms, total: 17.3 s\n",
      "Wall time: 17.5 s\n"
     ]
    }
   ],
   "source": [
    "%%time\n",
    "argwords = arg.words()"
   ]
  },
  {
   "cell_type": "code",
   "execution_count": 311,
   "metadata": {},
   "outputs": [
    {
     "data": {
      "text/plain": [
       "45509"
      ]
     },
     "execution_count": 311,
     "metadata": {},
     "output_type": "execute_result"
    }
   ],
   "source": [
    "len(argwords)"
   ]
  },
  {
   "cell_type": "code",
   "execution_count": 314,
   "metadata": {
    "collapsed": true
   },
   "outputs": [],
   "source": [
    "sents = [w for s in argsents for w in s]"
   ]
  },
  {
   "cell_type": "code",
   "execution_count": 316,
   "metadata": {
    "collapsed": true
   },
   "outputs": [],
   "source": [
    "citewords = arg.cite_words(arg.fileids()[0])"
   ]
  },
  {
   "cell_type": "code",
   "execution_count": 317,
   "metadata": {},
   "outputs": [
    {
     "data": {
      "text/plain": [
       "45509"
      ]
     },
     "execution_count": 317,
     "metadata": {},
     "output_type": "execute_result"
    }
   ],
   "source": [
    "len(citewords)"
   ]
  },
  {
   "cell_type": "code",
   "execution_count": 335,
   "metadata": {
    "collapsed": true
   },
   "outputs": [],
   "source": [
    "s = 'Ἠλείοισι δʼ ὅγʼ ἀνδράσιν ἐμβασίλευεν, ὄλβῳ κυδιόων. μέγα δʼ ἵετο Κολχίδα γαῖαν αὐτόν??τʼ Αἰήτην ἰδέειν σημάντορα Κόλχων.'"
   ]
  },
  {
   "cell_type": "code",
   "execution_count": 336,
   "metadata": {
    "cell_style": "split"
   },
   "outputs": [
    {
     "data": {
      "text/plain": [
       "['Ἠλείοισι',\n",
       " 'δʼ',\n",
       " 'ὅγʼ',\n",
       " 'ἀνδράσιν',\n",
       " 'ἐμβασίλευεν',\n",
       " ',',\n",
       " 'ὄλβῳ',\n",
       " 'κυδιόων',\n",
       " '.',\n",
       " 'μέγα',\n",
       " 'δʼ',\n",
       " 'ἵετο',\n",
       " 'Κολχίδα',\n",
       " 'γαῖαν',\n",
       " 'αὐτόν',\n",
       " '??',\n",
       " 'τʼ',\n",
       " 'Αἰήτην',\n",
       " 'ἰδέειν',\n",
       " 'σημάντορα',\n",
       " 'Κόλχων',\n",
       " '.']"
      ]
     },
     "execution_count": 336,
     "metadata": {},
     "output_type": "execute_result"
    }
   ],
   "source": [
    "arg._word_tokenizer.tokenize(s)"
   ]
  },
  {
   "cell_type": "code",
   "execution_count": 337,
   "metadata": {
    "cell_style": "split"
   },
   "outputs": [
    {
     "data": {
      "text/plain": [
       "['Ἠλείοισι δʼ ὅγʼ ἀνδράσιν ἐμβασίλευεν, ὄλβῳ κυδιόων.',\n",
       " 'μέγα δʼ ἵετο Κολχίδα γαῖαν αὐτόν?',\n",
       " '?τʼ Αἰήτην ἰδέειν σημάντορα Κόλχων.']"
      ]
     },
     "execution_count": 337,
     "metadata": {},
     "output_type": "execute_result"
    }
   ],
   "source": [
    "arg._sent_tokenizer.tokenize(s)"
   ]
  },
  {
   "cell_type": "code",
   "execution_count": 346,
   "metadata": {},
   "outputs": [
    {
     "data": {
      "text/plain": [
       "['?', 'τʼ', 'Αἰήτην', 'ἰδέειν', 'σημάντορα', 'Κόλχων', '.']"
      ]
     },
     "execution_count": 346,
     "metadata": {},
     "output_type": "execute_result"
    }
   ],
   "source": [
    "argsents[51]"
   ]
  },
  {
   "cell_type": "code",
   "execution_count": 357,
   "metadata": {
    "collapsed": true
   },
   "outputs": [],
   "source": [
    "arg._sent_tokenizer.PUNCTUATION = (';', '·', ',', '.')"
   ]
  },
  {
   "cell_type": "code",
   "execution_count": 358,
   "metadata": {},
   "outputs": [
    {
     "data": {
      "text/plain": [
       "['Ἠλείοισι δʼ ὅγʼ ἀνδράσιν ἐμβασίλευεν, ὄλβῳ κυδιόων.',\n",
       " 'μέγα δʼ ἵετο Κολχίδα γαῖαν αὐτόν?',\n",
       " '?τʼ Αἰήτην ἰδέειν σημάντορα Κόλχων.']"
      ]
     },
     "execution_count": 358,
     "metadata": {},
     "output_type": "execute_result"
    }
   ],
   "source": [
    "arg._sent_tokenizer.tokenize(s)"
   ]
  },
  {
   "cell_type": "code",
   "execution_count": 359,
   "metadata": {
    "collapsed": true
   },
   "outputs": [],
   "source": [
    "import nltk"
   ]
  },
  {
   "cell_type": "code",
   "execution_count": 360,
   "metadata": {
    "collapsed": true
   },
   "outputs": [],
   "source": [
    "grc_tok = nltk.data.LazyLoader(\"tokenizers/punkt/greek.pickle\")"
   ]
  },
  {
   "cell_type": "code",
   "execution_count": 361,
   "metadata": {},
   "outputs": [
    {
     "data": {
      "text/plain": [
       "['Ἠλείοισι δʼ ὅγʼ ἀνδράσιν ἐμβασίλευεν, ὄλβῳ κυδιόων.',\n",
       " 'μέγα δʼ ἵετο Κολχίδα γαῖαν αὐτόν?',\n",
       " '?τʼ Αἰήτην ἰδέειν σημάντορα Κόλχων.']"
      ]
     },
     "execution_count": 361,
     "metadata": {},
     "output_type": "execute_result"
    }
   ],
   "source": [
    "grc_tok.tokenize(s)"
   ]
  },
  {
   "cell_type": "code",
   "execution_count": 430,
   "metadata": {},
   "outputs": [
    {
     "data": {
      "text/plain": [
       "36"
      ]
     },
     "execution_count": 430,
     "metadata": {},
     "output_type": "execute_result"
    }
   ],
   "source": [
    "from glob import glob\n",
    "paths = glob(\"/Users/fmambrini/cltk_data/greek/text/canonical-greekLit-master/data/tlg0059/tlg*/tlg*grc*.xml\")\n",
    "len(paths)"
   ]
  },
  {
   "cell_type": "code",
   "execution_count": 381,
   "metadata": {
    "collapsed": true
   },
   "outputs": [],
   "source": [
    "from MyCapytain.resources.texts.local.capitains.cts import CapitainsCtsText\n",
    "from MyCapytain.common.constants import Mimetypes, XPATH_NAMESPACES"
   ]
  },
  {
   "cell_type": "code",
   "execution_count": 431,
   "metadata": {},
   "outputs": [],
   "source": [
    "plain_text = ''\n",
    "for path in paths:\n",
    "    with open(path) as file_open:\n",
    "        text = CapitainsCtsText(resource=file_open)\n",
    "        for ref in text.getReffs(level=len(text.citation)):\n",
    "            psg = text.getTextualNode(subreference=ref, simple=True)\n",
    "            text_line = psg.export(Mimetypes.PLAINTEXT, exclude=[\"tei:note\", \"tei:bibl\", \"tei:label\"]) + \" \"\n",
    "            plain_text += text_line\n",
    "\n",
    "with open(\"plato_tokTraining.txt\", 'w') as file_open:\n",
    "    file_open.write(plain_text)"
   ]
  },
  {
   "cell_type": "markdown",
   "metadata": {},
   "source": [
    "# Train a punkt sent tokenizer for AG"
   ]
  },
  {
   "cell_type": "code",
   "execution_count": 1,
   "metadata": {
    "collapsed": true
   },
   "outputs": [],
   "source": [
    "from nltk.tokenize.punkt import PunktSentenceTokenizer, PunktLanguageVars\n",
    "import nltk"
   ]
  },
  {
   "cell_type": "code",
   "execution_count": 2,
   "metadata": {},
   "outputs": [
    {
     "name": "stdout",
     "output_type": "stream",
     "text": [
      "2\n"
     ]
    }
   ],
   "source": [
    "traincorp = nltk.corpus.reader.plaintext.PlaintextCorpusReader(\".\", \".*\\.txt\")\n",
    "print(len(traincorp.fileids()))\n",
    "traintxt = traincorp.raw()"
   ]
  },
  {
   "cell_type": "code",
   "execution_count": 1,
   "metadata": {},
   "outputs": [
    {
     "ename": "NameError",
     "evalue": "name 'PunktLanguageVars' is not defined",
     "traceback": [
      "\u001b[0;31m---------------------------------------------------------------------------\u001b[0m",
      "\u001b[0;31mNameError\u001b[0m                                 Traceback (most recent call last)",
      "\u001b[0;32m<ipython-input-1-ad103be616e7>\u001b[0m in \u001b[0;36m<module>\u001b[0;34m()\u001b[0m\n\u001b[0;32m----> 1\u001b[0;31m \u001b[0;32mclass\u001b[0m \u001b[0mAncientGreekPunktVar\u001b[0m\u001b[0;34m(\u001b[0m\u001b[0mPunktLanguageVars\u001b[0m\u001b[0;34m)\u001b[0m\u001b[0;34m:\u001b[0m\u001b[0;34m\u001b[0m\u001b[0m\n\u001b[0m\u001b[1;32m      2\u001b[0m     \u001b[0msent_end_chars\u001b[0m \u001b[0;34m=\u001b[0m \u001b[0;34m(\u001b[0m\u001b[0;34m\"·\"\u001b[0m\u001b[0;34m,\u001b[0m\u001b[0;34m'.'\u001b[0m\u001b[0;34m,\u001b[0m \u001b[0;34m';'\u001b[0m\u001b[0;34m,\u001b[0m \u001b[0;34m\":\"\u001b[0m\u001b[0;34m)\u001b[0m\u001b[0;34m\u001b[0m\u001b[0m\n\u001b[1;32m      3\u001b[0m     \u001b[0m_re_non_word_chars\u001b[0m \u001b[0;34m=\u001b[0m \u001b[0;34mr\"(?:[\\\";\\*:@\\'·])\"\u001b[0m\u001b[0;34m\u001b[0m\u001b[0m\n\u001b[1;32m      4\u001b[0m \u001b[0;34m\u001b[0m\u001b[0m\n\u001b[1;32m      5\u001b[0m \u001b[0;32mclass\u001b[0m \u001b[0mFakePunktVar\u001b[0m\u001b[0;34m(\u001b[0m\u001b[0mPunktLanguageVars\u001b[0m\u001b[0;34m)\u001b[0m\u001b[0;34m:\u001b[0m\u001b[0;34m\u001b[0m\u001b[0m\n",
      "\u001b[0;31mNameError\u001b[0m: name 'PunktLanguageVars' is not defined"
     ],
     "output_type": "error"
    }
   ],
   "source": [
    "class AncientGreekPunktVar(PunktLanguageVars):\n",
    "    sent_end_chars = (\"·\",'.', ';', \":\")\n",
    "    _re_non_word_chars = r\"(?:[\\\";\\*:@\\'·])\"\n",
    "    \n",
    "class FakePunktVar(PunktLanguageVars):\n",
    "    sent_end_chars = ('a', '.')\n",
    "    internal_punctuation = (',')"
   ]
  },
  {
   "cell_type": "code",
   "execution_count": 82,
   "metadata": {},
   "outputs": [],
   "source": [
    "tokenizer = PunktSentenceTokenizer(lang_vars=AncientGreekPunktVar())"
   ]
  },
  {
   "cell_type": "code",
   "execution_count": 67,
   "metadata": {
    "collapsed": true
   },
   "outputs": [],
   "source": [
    "with open(\"apollonius_tokTraining.txt\") as f:\n",
    "    apoll = f.read()"
   ]
  },
  {
   "cell_type": "code",
   "execution_count": 83,
   "metadata": {
    "collapsed": true
   },
   "outputs": [],
   "source": [
    "sent = tokenizer.tokenize(apoll)"
   ]
  },
  {
   "cell_type": "code",
   "execution_count": 87,
   "metadata": {},
   "outputs": [
    {
     "data": {
      "text/plain": [
       "'μέγα δʼ ἵετο Κολχίδα γαῖαν \\nαὐτόν??τʼ Αἰήτην ἰδέειν σημάντορα Κόλχων.'"
      ]
     },
     "execution_count": 87,
     "metadata": {},
     "output_type": "execute_result"
    }
   ],
   "source": [
    "s = '''βῆ δὲ καὶ Αὐγείης, ὃν δὴ φάτις Ἠελίοιο \n",
    "ἔμμεναι· Ἠλείοισι δʼ ὅγʼ ἀνδράσιν ἐμβασίλευεν, \n",
    "ὄλβῳ κυδιόων· μέγα δʼ ἵετο Κολχίδα γαῖαν \n",
    "αὐτόν??τʼ Αἰήτην ἰδέειν σημάντορα Κόλχων.'''\n",
    "tokenizer.tokenize(s)[-1]"
   ]
  },
  {
   "cell_type": "code",
   "execution_count": 73,
   "metadata": {
    "collapsed": true
   },
   "outputs": [],
   "source": [
    "tokenizer = PunktSentenceTokenizer(lang_vars = AncientGreekPunktVar())\n",
    "faketok = PunktSentenceTokenizer(lang_vars=FakePunktVar()) "
   ]
  },
  {
   "cell_type": "code",
   "execution_count": 71,
   "metadata": {},
   "outputs": [
    {
     "data": {
      "text/plain": [
       "['I am a sentence· me too;', 'meee meee:', 'yahoooo.', 'hei']"
      ]
     },
     "execution_count": 71,
     "metadata": {},
     "output_type": "execute_result"
    }
   ],
   "source": [
    "tokenizer.tokenize(\"I am a sentence· me too; meee meee: yahoooo. hei\")"
   ]
  },
  {
   "cell_type": "code",
   "execution_count": 74,
   "metadata": {},
   "outputs": [
    {
     "data": {
      "text/plain": [
       "['Quando vai affanculo.', 'Non lo so']"
      ]
     },
     "execution_count": 74,
     "metadata": {},
     "output_type": "execute_result"
    }
   ],
   "source": [
    "faketok.tokenize(\"Quando vai affanculo. Non lo so\")"
   ]
  },
  {
   "cell_type": "code",
   "execution_count": 75,
   "metadata": {
    "collapsed": true
   },
   "outputs": [],
   "source": [
    "var = AncientGreekPunktVar()"
   ]
  },
  {
   "cell_type": "code",
   "execution_count": 76,
   "metadata": {},
   "outputs": [
    {
     "data": {
      "text/plain": [
       "'[\\\\·\\\\ʼ\\\\·\\\\.\\\\;\\\\:]'"
      ]
     },
     "execution_count": 76,
     "metadata": {},
     "output_type": "execute_result"
    }
   ],
   "source": [
    "var._re_sent_end_chars"
   ]
  },
  {
   "cell_type": "code",
   "execution_count": 77,
   "metadata": {},
   "outputs": [
    {
     "name": "stdout",
     "output_type": "stream",
     "text": [
      "ʼ\n",
      "·\n",
      "ʼ\n",
      "ʼ\n",
      "·\n",
      "ʼ\n",
      "ʼ\n",
      ".\n"
     ]
    }
   ],
   "source": [
    "for s in sent[-1]:\n",
    "    if s in var.sent_end_chars:\n",
    "        print(s)"
   ]
  },
  {
   "cell_type": "code",
   "execution_count": 80,
   "metadata": {},
   "outputs": [
    {
     "data": {
      "text/plain": [
       "['ἤδη',\n",
       " 'γὰρ',\n",
       " 'ἐπὶ',\n",
       " 'κλυτὰ',\n",
       " 'πείραθʼ',\n",
       " 'ἱκάνω',\n",
       " 'ὑμετέρων',\n",
       " 'καμάτων·',\n",
       " 'ἐπεὶ',\n",
       " 'οὔ',\n",
       " 'νύ',\n",
       " 'τις',\n",
       " 'ὔμμιν',\n",
       " 'ἄεθλος',\n",
       " 'αὖτις',\n",
       " 'ἀπʼ',\n",
       " 'Αἰγίνηθεν',\n",
       " 'ἀνερχομένοισιν',\n",
       " 'ἐτύχθη',\n",
       " ',',\n",
       " 'οὔτʼ',\n",
       " 'ἀνέμων',\n",
       " 'ἐριῶλαι',\n",
       " 'ἐνέσταθεν·',\n",
       " 'ἀλλὰ',\n",
       " 'ἕκηλοι',\n",
       " 'γαῖαν',\n",
       " 'Κεκροπίην',\n",
       " 'παρά',\n",
       " 'τʼ',\n",
       " 'Αὐλίδα',\n",
       " 'μετρήσαντες',\n",
       " 'Εὐβοίης',\n",
       " 'ἔντοσθεν',\n",
       " 'Ὀπούντιά',\n",
       " 'τʼ',\n",
       " 'ἄστεα',\n",
       " 'Λοκρῶν',\n",
       " 'ἀσπασίως',\n",
       " 'ἀκτὰς',\n",
       " 'Παγασηίδας',\n",
       " 'εἰσαπέβητε.']"
      ]
     },
     "execution_count": 80,
     "metadata": {},
     "output_type": "execute_result"
    }
   ],
   "source": [
    "var.word_tokenize(sent[-1])"
   ]
  },
  {
   "cell_type": "code",
   "execution_count": 91,
   "metadata": {},
   "outputs": [
    {
     "data": {
      "text/plain": [
       "2.9200000000000004"
      ]
     },
     "execution_count": 91,
     "metadata": {},
     "output_type": "execute_result"
    }
   ],
   "source": [
    "sum([2.3,3,3.7,2.3,3.3]) / 5"
   ]
  },
  {
   "cell_type": "code",
   "execution_count": null,
   "metadata": {
    "collapsed": true
   },
   "outputs": [],
   "source": []
  }
 ],
 "metadata": {
  "kernelspec": {
   "display_name": "Python 3",
   "language": "python",
   "name": "python3"
  },
  "language_info": {
   "codemirror_mode": {
    "name": "ipython",
    "version": 3
   },
   "file_extension": ".py",
   "mimetype": "text/x-python",
   "name": "python",
   "nbconvert_exporter": "python",
   "pygments_lexer": "ipython3",
   "version": "3.6.5"
  },
  "toc": {
   "nav_menu": {},
   "number_sections": true,
   "sideBar": true,
   "skip_h1_title": false,
   "title_cell": "Table of Contents",
   "title_sidebar": "Contents",
   "toc_cell": false,
   "toc_position": {},
   "toc_section_display": true,
   "toc_window_display": false
  }
 },
 "nbformat": 4,
 "nbformat_minor": 2
}
